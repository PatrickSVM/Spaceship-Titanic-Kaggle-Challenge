{
 "cells": [
  {
   "cell_type": "markdown",
   "id": "daf353db",
   "metadata": {},
   "source": [
    "# Spaceship Titanic Kaggle Challenge"
   ]
  },
  {
   "cell_type": "markdown",
   "id": "3f1e4c14",
   "metadata": {},
   "source": [
    "## 1. Import dependencies and load data"
   ]
  },
  {
   "cell_type": "markdown",
   "id": "da0d5102",
   "metadata": {},
   "source": [
    "### 1.1 Install dependencies"
   ]
  },
  {
   "cell_type": "code",
   "execution_count": 1,
   "id": "d000f625",
   "metadata": {},
   "outputs": [],
   "source": [
    "%%capture\n",
    "\n",
    "! pip install pandas\n",
    "! pip install numpy\n",
    "! pip install matplotlib\n",
    "! pip install seaborn\n",
    "! pip install missingno\n",
    "\n",
    "\n",
    "# this code is only necessary for Mac M1 Chip\n",
    "! pip install tensorflow-macos\n",
    "! pip install tensorflow-metal"
   ]
  },
  {
   "cell_type": "markdown",
   "id": "24061c89",
   "metadata": {},
   "source": [
    "### 1.2 Import dependencies"
   ]
  },
  {
   "cell_type": "code",
   "execution_count": 2,
   "id": "69e7cc7c",
   "metadata": {},
   "outputs": [],
   "source": [
    "import matplotlib.pyplot as plt\n",
    "import pandas as pd\n",
    "import tensorflow as tf\n",
    "import tensorflow.keras as keras\n",
    "import numpy as np\n",
    "import seaborn as sns\n",
    "import missingno as msno"
   ]
  },
  {
   "cell_type": "markdown",
   "id": "89d00429",
   "metadata": {},
   "source": [
    "### 1.3 Load the data"
   ]
  },
  {
   "cell_type": "code",
   "execution_count": 3,
   "id": "4d2aad1c",
   "metadata": {},
   "outputs": [],
   "source": [
    "train = pd.read_csv(\"./spaceship-titanic/train.csv\")\n",
    "test = pd.read_csv(\"./spaceship-titanic/test.csv\")"
   ]
  },
  {
   "cell_type": "markdown",
   "id": "f807c49d",
   "metadata": {},
   "source": [
    "## 2. Analyze the dataset"
   ]
  },
  {
   "cell_type": "markdown",
   "id": "5c12b5d9",
   "metadata": {},
   "source": [
    "### 2.1 Description of the dataset\n",
    "\n",
    "**train.csv** - Personal records for about two-thirds (~8700) of the passengers, to be used as training data.\n",
    "\n",
    "1. **PassengerId** - A unique Id for each passenger. Each Id takes the form gggg_pp where gggg indicates a group the passenger is travelling with and pp is their number within the group. People in a group are often family members, but not always.\n",
    "2. **HomePlanet** - The planet the passenger departed from, typically their planet of permanent residence.\n",
    "3. **CryoSleep** - Indicates whether the passenger elected to be put into suspended animation for the duration of the voyage. Passengers in cryosleep are confined to their cabins.\n",
    "4. **Cabin** - The cabin number where the passenger is staying. Takes the form deck/num/side, where side can be either P for Port or S for Starboard.\n",
    "5. **Destination** - The planet the passenger will be debarking to.\n",
    "6. **Age** - The age of the passenger.\n",
    "7. **VIP** - Whether the passenger has paid for special VIP service during the voyage.\n",
    "9. **RoomService** - Amount the passenger has billed at each of the Spaceship Titanic's many luxury amenities.\n",
    "3. **FoodCourt** - Amount the passenger has billed at each of the Spaceship Titanic's many luxury amenities. \n",
    "3. **ShoppingMall** - Amount the passenger has billed at each of the Spaceship Titanic's many luxury amenities. \n",
    "3. **Spa** - Amount the passenger has billed at each of the Spaceship Titanic's many luxury amenities.\n",
    "3. **VRDeck** - Amount the passenger has billed at each of the Spaceship Titanic's many luxury amenities.\n",
    "10. **Name** - The first and last names of the passenger.\n",
    "11. **Transported** - Whether the passenger was transported to another dimension. This is the target, the column you are trying to predict.\n",
    "---\n",
    "**test.csv** - Personal records for the remaining one-third (~4300) of the passengers, to be used as test data. Your task is to predict the value of Transported for the passengers in this set. Same columns as train.csv.\n"
   ]
  },
  {
   "cell_type": "code",
   "execution_count": 4,
   "id": "82b5ce98",
   "metadata": {},
   "outputs": [
    {
     "data": {
      "text/html": [
       "<div>\n",
       "<style scoped>\n",
       "    .dataframe tbody tr th:only-of-type {\n",
       "        vertical-align: middle;\n",
       "    }\n",
       "\n",
       "    .dataframe tbody tr th {\n",
       "        vertical-align: top;\n",
       "    }\n",
       "\n",
       "    .dataframe thead th {\n",
       "        text-align: right;\n",
       "    }\n",
       "</style>\n",
       "<table border=\"1\" class=\"dataframe\">\n",
       "  <thead>\n",
       "    <tr style=\"text-align: right;\">\n",
       "      <th></th>\n",
       "      <th>PassengerId</th>\n",
       "      <th>HomePlanet</th>\n",
       "      <th>CryoSleep</th>\n",
       "      <th>Cabin</th>\n",
       "      <th>Destination</th>\n",
       "      <th>Age</th>\n",
       "      <th>VIP</th>\n",
       "      <th>RoomService</th>\n",
       "      <th>FoodCourt</th>\n",
       "      <th>ShoppingMall</th>\n",
       "      <th>Spa</th>\n",
       "      <th>VRDeck</th>\n",
       "      <th>Name</th>\n",
       "      <th>Transported</th>\n",
       "    </tr>\n",
       "  </thead>\n",
       "  <tbody>\n",
       "    <tr>\n",
       "      <th>0</th>\n",
       "      <td>0001_01</td>\n",
       "      <td>Europa</td>\n",
       "      <td>False</td>\n",
       "      <td>B/0/P</td>\n",
       "      <td>TRAPPIST-1e</td>\n",
       "      <td>39.0</td>\n",
       "      <td>False</td>\n",
       "      <td>0.0</td>\n",
       "      <td>0.0</td>\n",
       "      <td>0.0</td>\n",
       "      <td>0.0</td>\n",
       "      <td>0.0</td>\n",
       "      <td>Maham Ofracculy</td>\n",
       "      <td>False</td>\n",
       "    </tr>\n",
       "    <tr>\n",
       "      <th>1</th>\n",
       "      <td>0002_01</td>\n",
       "      <td>Earth</td>\n",
       "      <td>False</td>\n",
       "      <td>F/0/S</td>\n",
       "      <td>TRAPPIST-1e</td>\n",
       "      <td>24.0</td>\n",
       "      <td>False</td>\n",
       "      <td>109.0</td>\n",
       "      <td>9.0</td>\n",
       "      <td>25.0</td>\n",
       "      <td>549.0</td>\n",
       "      <td>44.0</td>\n",
       "      <td>Juanna Vines</td>\n",
       "      <td>True</td>\n",
       "    </tr>\n",
       "    <tr>\n",
       "      <th>2</th>\n",
       "      <td>0003_01</td>\n",
       "      <td>Europa</td>\n",
       "      <td>False</td>\n",
       "      <td>A/0/S</td>\n",
       "      <td>TRAPPIST-1e</td>\n",
       "      <td>58.0</td>\n",
       "      <td>True</td>\n",
       "      <td>43.0</td>\n",
       "      <td>3576.0</td>\n",
       "      <td>0.0</td>\n",
       "      <td>6715.0</td>\n",
       "      <td>49.0</td>\n",
       "      <td>Altark Susent</td>\n",
       "      <td>False</td>\n",
       "    </tr>\n",
       "    <tr>\n",
       "      <th>3</th>\n",
       "      <td>0003_02</td>\n",
       "      <td>Europa</td>\n",
       "      <td>False</td>\n",
       "      <td>A/0/S</td>\n",
       "      <td>TRAPPIST-1e</td>\n",
       "      <td>33.0</td>\n",
       "      <td>False</td>\n",
       "      <td>0.0</td>\n",
       "      <td>1283.0</td>\n",
       "      <td>371.0</td>\n",
       "      <td>3329.0</td>\n",
       "      <td>193.0</td>\n",
       "      <td>Solam Susent</td>\n",
       "      <td>False</td>\n",
       "    </tr>\n",
       "    <tr>\n",
       "      <th>4</th>\n",
       "      <td>0004_01</td>\n",
       "      <td>Earth</td>\n",
       "      <td>False</td>\n",
       "      <td>F/1/S</td>\n",
       "      <td>TRAPPIST-1e</td>\n",
       "      <td>16.0</td>\n",
       "      <td>False</td>\n",
       "      <td>303.0</td>\n",
       "      <td>70.0</td>\n",
       "      <td>151.0</td>\n",
       "      <td>565.0</td>\n",
       "      <td>2.0</td>\n",
       "      <td>Willy Santantines</td>\n",
       "      <td>True</td>\n",
       "    </tr>\n",
       "  </tbody>\n",
       "</table>\n",
       "</div>"
      ],
      "text/plain": [
       "  PassengerId HomePlanet CryoSleep  Cabin  Destination   Age    VIP  \\\n",
       "0     0001_01     Europa     False  B/0/P  TRAPPIST-1e  39.0  False   \n",
       "1     0002_01      Earth     False  F/0/S  TRAPPIST-1e  24.0  False   \n",
       "2     0003_01     Europa     False  A/0/S  TRAPPIST-1e  58.0   True   \n",
       "3     0003_02     Europa     False  A/0/S  TRAPPIST-1e  33.0  False   \n",
       "4     0004_01      Earth     False  F/1/S  TRAPPIST-1e  16.0  False   \n",
       "\n",
       "   RoomService  FoodCourt  ShoppingMall     Spa  VRDeck               Name  \\\n",
       "0          0.0        0.0           0.0     0.0     0.0    Maham Ofracculy   \n",
       "1        109.0        9.0          25.0   549.0    44.0       Juanna Vines   \n",
       "2         43.0     3576.0           0.0  6715.0    49.0      Altark Susent   \n",
       "3          0.0     1283.0         371.0  3329.0   193.0       Solam Susent   \n",
       "4        303.0       70.0         151.0   565.0     2.0  Willy Santantines   \n",
       "\n",
       "   Transported  \n",
       "0        False  \n",
       "1         True  \n",
       "2        False  \n",
       "3        False  \n",
       "4         True  "
      ]
     },
     "execution_count": 4,
     "metadata": {},
     "output_type": "execute_result"
    }
   ],
   "source": [
    "train.head()"
   ]
  },
  {
   "cell_type": "code",
   "execution_count": 5,
   "id": "2671cc18",
   "metadata": {},
   "outputs": [
    {
     "name": "stdout",
     "output_type": "stream",
     "text": [
      "<class 'pandas.core.frame.DataFrame'>\n",
      "RangeIndex: 8693 entries, 0 to 8692\n",
      "Data columns (total 14 columns):\n",
      " #   Column        Non-Null Count  Dtype  \n",
      "---  ------        --------------  -----  \n",
      " 0   PassengerId   8693 non-null   object \n",
      " 1   HomePlanet    8492 non-null   object \n",
      " 2   CryoSleep     8476 non-null   object \n",
      " 3   Cabin         8494 non-null   object \n",
      " 4   Destination   8511 non-null   object \n",
      " 5   Age           8514 non-null   float64\n",
      " 6   VIP           8490 non-null   object \n",
      " 7   RoomService   8512 non-null   float64\n",
      " 8   FoodCourt     8510 non-null   float64\n",
      " 9   ShoppingMall  8485 non-null   float64\n",
      " 10  Spa           8510 non-null   float64\n",
      " 11  VRDeck        8505 non-null   float64\n",
      " 12  Name          8493 non-null   object \n",
      " 13  Transported   8693 non-null   bool   \n",
      "dtypes: bool(1), float64(6), object(7)\n",
      "memory usage: 891.5+ KB\n"
     ]
    }
   ],
   "source": [
    "train.info()\n",
    "\n",
    "# We can see that CryoSleep and VIP contain boolean values but are saved as objects\n",
    "# We need to transform them for later analysis\n",
    "\n",
    "# TO-DO: Transform btoh"
   ]
  },
  {
   "cell_type": "code",
   "execution_count": 6,
   "id": "39834d92",
   "metadata": {},
   "outputs": [
    {
     "data": {
      "text/html": [
       "<div>\n",
       "<style scoped>\n",
       "    .dataframe tbody tr th:only-of-type {\n",
       "        vertical-align: middle;\n",
       "    }\n",
       "\n",
       "    .dataframe tbody tr th {\n",
       "        vertical-align: top;\n",
       "    }\n",
       "\n",
       "    .dataframe thead th {\n",
       "        text-align: right;\n",
       "    }\n",
       "</style>\n",
       "<table border=\"1\" class=\"dataframe\">\n",
       "  <thead>\n",
       "    <tr style=\"text-align: right;\">\n",
       "      <th></th>\n",
       "      <th>Age</th>\n",
       "      <th>RoomService</th>\n",
       "      <th>FoodCourt</th>\n",
       "      <th>ShoppingMall</th>\n",
       "      <th>Spa</th>\n",
       "      <th>VRDeck</th>\n",
       "    </tr>\n",
       "  </thead>\n",
       "  <tbody>\n",
       "    <tr>\n",
       "      <th>count</th>\n",
       "      <td>8514.00</td>\n",
       "      <td>8512.00</td>\n",
       "      <td>8510.00</td>\n",
       "      <td>8485.00</td>\n",
       "      <td>8510.00</td>\n",
       "      <td>8505.00</td>\n",
       "    </tr>\n",
       "    <tr>\n",
       "      <th>mean</th>\n",
       "      <td>28.83</td>\n",
       "      <td>224.69</td>\n",
       "      <td>458.08</td>\n",
       "      <td>173.73</td>\n",
       "      <td>311.14</td>\n",
       "      <td>304.85</td>\n",
       "    </tr>\n",
       "    <tr>\n",
       "      <th>std</th>\n",
       "      <td>14.49</td>\n",
       "      <td>666.72</td>\n",
       "      <td>1611.49</td>\n",
       "      <td>604.70</td>\n",
       "      <td>1136.71</td>\n",
       "      <td>1145.72</td>\n",
       "    </tr>\n",
       "    <tr>\n",
       "      <th>min</th>\n",
       "      <td>0.00</td>\n",
       "      <td>0.00</td>\n",
       "      <td>0.00</td>\n",
       "      <td>0.00</td>\n",
       "      <td>0.00</td>\n",
       "      <td>0.00</td>\n",
       "    </tr>\n",
       "    <tr>\n",
       "      <th>25%</th>\n",
       "      <td>19.00</td>\n",
       "      <td>0.00</td>\n",
       "      <td>0.00</td>\n",
       "      <td>0.00</td>\n",
       "      <td>0.00</td>\n",
       "      <td>0.00</td>\n",
       "    </tr>\n",
       "    <tr>\n",
       "      <th>50%</th>\n",
       "      <td>27.00</td>\n",
       "      <td>0.00</td>\n",
       "      <td>0.00</td>\n",
       "      <td>0.00</td>\n",
       "      <td>0.00</td>\n",
       "      <td>0.00</td>\n",
       "    </tr>\n",
       "    <tr>\n",
       "      <th>75%</th>\n",
       "      <td>38.00</td>\n",
       "      <td>47.00</td>\n",
       "      <td>76.00</td>\n",
       "      <td>27.00</td>\n",
       "      <td>59.00</td>\n",
       "      <td>46.00</td>\n",
       "    </tr>\n",
       "    <tr>\n",
       "      <th>max</th>\n",
       "      <td>79.00</td>\n",
       "      <td>14327.00</td>\n",
       "      <td>29813.00</td>\n",
       "      <td>23492.00</td>\n",
       "      <td>22408.00</td>\n",
       "      <td>24133.00</td>\n",
       "    </tr>\n",
       "  </tbody>\n",
       "</table>\n",
       "</div>"
      ],
      "text/plain": [
       "           Age RoomService FoodCourt ShoppingMall       Spa    VRDeck\n",
       "count  8514.00     8512.00   8510.00      8485.00   8510.00   8505.00\n",
       "mean     28.83      224.69    458.08       173.73    311.14    304.85\n",
       "std      14.49      666.72   1611.49       604.70   1136.71   1145.72\n",
       "min       0.00        0.00      0.00         0.00      0.00      0.00\n",
       "25%      19.00        0.00      0.00         0.00      0.00      0.00\n",
       "50%      27.00        0.00      0.00         0.00      0.00      0.00\n",
       "75%      38.00       47.00     76.00        27.00     59.00     46.00\n",
       "max      79.00    14327.00  29813.00     23492.00  22408.00  24133.00"
      ]
     },
     "execution_count": 6,
     "metadata": {},
     "output_type": "execute_result"
    }
   ],
   "source": [
    "# Show description of all numeric features\n",
    "train.describe(include=float).applymap(lambda x: f\"{x:0.2f}\") # Round to 2 decimals\n",
    "\n",
    "# Interesting: .applymap() applies function elementwise, so to every element of DF"
   ]
  },
  {
   "cell_type": "code",
   "execution_count": 7,
   "id": "bf8caffd",
   "metadata": {
    "scrolled": true
   },
   "outputs": [
    {
     "data": {
      "text/html": [
       "<div>\n",
       "<style scoped>\n",
       "    .dataframe tbody tr th:only-of-type {\n",
       "        vertical-align: middle;\n",
       "    }\n",
       "\n",
       "    .dataframe tbody tr th {\n",
       "        vertical-align: top;\n",
       "    }\n",
       "\n",
       "    .dataframe thead th {\n",
       "        text-align: right;\n",
       "    }\n",
       "</style>\n",
       "<table border=\"1\" class=\"dataframe\">\n",
       "  <thead>\n",
       "    <tr style=\"text-align: right;\">\n",
       "      <th></th>\n",
       "      <th>PassengerId</th>\n",
       "      <th>HomePlanet</th>\n",
       "      <th>CryoSleep</th>\n",
       "      <th>Cabin</th>\n",
       "      <th>Destination</th>\n",
       "      <th>VIP</th>\n",
       "      <th>Name</th>\n",
       "      <th>Transported</th>\n",
       "    </tr>\n",
       "  </thead>\n",
       "  <tbody>\n",
       "    <tr>\n",
       "      <th>count</th>\n",
       "      <td>8693</td>\n",
       "      <td>8492</td>\n",
       "      <td>8476</td>\n",
       "      <td>8494</td>\n",
       "      <td>8511</td>\n",
       "      <td>8490</td>\n",
       "      <td>8493</td>\n",
       "      <td>8693</td>\n",
       "    </tr>\n",
       "    <tr>\n",
       "      <th>unique</th>\n",
       "      <td>8693</td>\n",
       "      <td>3</td>\n",
       "      <td>2</td>\n",
       "      <td>6560</td>\n",
       "      <td>3</td>\n",
       "      <td>2</td>\n",
       "      <td>8473</td>\n",
       "      <td>2</td>\n",
       "    </tr>\n",
       "    <tr>\n",
       "      <th>top</th>\n",
       "      <td>0001_01</td>\n",
       "      <td>Earth</td>\n",
       "      <td>False</td>\n",
       "      <td>G/734/S</td>\n",
       "      <td>TRAPPIST-1e</td>\n",
       "      <td>False</td>\n",
       "      <td>Gollux Reedall</td>\n",
       "      <td>True</td>\n",
       "    </tr>\n",
       "    <tr>\n",
       "      <th>freq</th>\n",
       "      <td>1</td>\n",
       "      <td>4602</td>\n",
       "      <td>5439</td>\n",
       "      <td>8</td>\n",
       "      <td>5915</td>\n",
       "      <td>8291</td>\n",
       "      <td>2</td>\n",
       "      <td>4378</td>\n",
       "    </tr>\n",
       "  </tbody>\n",
       "</table>\n",
       "</div>"
      ],
      "text/plain": [
       "       PassengerId HomePlanet CryoSleep    Cabin  Destination    VIP  \\\n",
       "count         8693       8492      8476     8494         8511   8490   \n",
       "unique        8693          3         2     6560            3      2   \n",
       "top        0001_01      Earth     False  G/734/S  TRAPPIST-1e  False   \n",
       "freq             1       4602      5439        8         5915   8291   \n",
       "\n",
       "                  Name Transported  \n",
       "count             8493        8693  \n",
       "unique            8473           2  \n",
       "top     Gollux Reedall        True  \n",
       "freq                 2        4378  "
      ]
     },
     "execution_count": 7,
     "metadata": {},
     "output_type": "execute_result"
    }
   ],
   "source": [
    "# Show all categorical and boolean features\n",
    "train.describe(include=[object, bool])"
   ]
  },
  {
   "cell_type": "markdown",
   "id": "fd6b8285",
   "metadata": {},
   "source": [
    "### 2.3 Check for NaN-values"
   ]
  },
  {
   "cell_type": "code",
   "execution_count": 8,
   "id": "2eaf8763",
   "metadata": {},
   "outputs": [
    {
     "name": "stdout",
     "output_type": "stream",
     "text": [
      "Number of rows:                      8693\n",
      "Number of rows with >= 1 NaN-value:  2087\n",
      "\n",
      "Percentage of 'full'-rows:           24.01%\n"
     ]
    }
   ],
   "source": [
    "print(f\"Number of rows:                      {len(train)}\")\n",
    "print(f\"Number of rows with >= 1 NaN-value:  {(train.isna().any(1).sum())}\")\n",
    "print(f\"\\nPercentage of 'full'-rows:           {(train.isna().any(1).sum()/len(train))*100:.2f}%\")"
   ]
  },
  {
   "cell_type": "code",
   "execution_count": 9,
   "id": "6d593e8b",
   "metadata": {},
   "outputs": [
    {
     "data": {
      "text/plain": [
       "<AxesSubplot:>"
      ]
     },
     "execution_count": 9,
     "metadata": {},
     "output_type": "execute_result"
    },
    {
     "data": {
      "image/png": "[encoded data removed]",
      "text/plain": [
       "<Figure size 432x288 with 1 Axes>"
      ]
     },
     "metadata": {
      "needs_background": "light"
     },
     "output_type": "display_data"
    }
   ],
   "source": [
    "train.isna().sum().sort_values().plot(kind=\"barh\")\n",
    "# All columns show more or less equal amounts of NaN values - besides Target variable and PassengerID which are 100%"
   ]
  },
  {
   "cell_type": "code",
   "execution_count": 10,
   "id": "45197826",
   "metadata": {
    "scrolled": false
   },
   "outputs": [
    {
     "data": {
      "image/png": "[encoded data removed]",
      "text/plain": [
       "<Figure size 1080x576 with 2 Axes>"
      ]
     },
     "metadata": {
      "needs_background": "light"
     },
     "output_type": "display_data"
    }
   ],
   "source": [
    "# Where are the NaN-values? All in same row or more distributed? \n",
    "plt.figure(figsize=(15,8)) # Do not use sns.set(...), this will change apperance of all plt plots!\n",
    "nan_plot = sns.heatmap(train.drop([\"PassengerId\", \"Transported\"], axis=1).isna(),\n",
    "            cmap=\"YlGnBu\",\n",
    "            cbar_kws={'label': 'Missing Data'})\n",
    "#new_labels = nan_plot.set_xticklabels(nan_plot.get_xticklabels(), rotation=45, horizontalalignment='right')"
   ]
  },
  {
   "cell_type": "code",
   "execution_count": 11,
   "id": "333024f4",
   "metadata": {},
   "outputs": [
    {
     "data": {
      "text/plain": [
       "<AxesSubplot:>"
      ]
     },
     "execution_count": 11,
     "metadata": {},
     "output_type": "execute_result"
    },
    {
     "data": {
      "image/png": "[encoded data removed]",
      "text/plain": [
       "<Figure size 1800x720 with 2 Axes>"
      ]
     },
     "metadata": {
      "needs_background": "light"
     },
     "output_type": "display_data"
    }
   ],
   "source": [
    "# Sns-heatmap was okay - but we want to search for pattern in NaN-position:\n",
    "msno.matrix(train)\n",
    "\n",
    "# We can see that there is a minimum of 11 non-NaN-values always present out of the 14 features\n",
    "# so in one row a max of three values is missing.\n",
    "# Most of them have all data (just a line, but not visible since too many), \n",
    "# many are missing one (first block), some are missing two (second block), very few are missing three (last block)"
   ]
  },
  {
   "cell_type": "code",
   "execution_count": 12,
   "id": "d84fd85a",
   "metadata": {},
   "outputs": [
    {
     "data": {
      "text/plain": [
       "<AxesSubplot:>"
      ]
     },
     "execution_count": 12,
     "metadata": {},
     "output_type": "execute_result"
    },
    {
     "data": {
      "image/png": "[encoded data removed]",
      "text/plain": [
       "<Figure size 432x288 with 1 Axes>"
      ]
     },
     "metadata": {
      "needs_background": "light"
     },
     "output_type": "display_data"
    }
   ],
   "source": [
    "row_nans = train.drop([\"PassengerId\", \"Transported\"], axis=1).isnull().sum(axis=1)\n",
    "row_nans[row_nans>0].value_counts().plot(kind=\"barh\")"
   ]
  },
  {
   "cell_type": "code",
   "execution_count": 14,
   "id": "5cf6fe15",
   "metadata": {
    "scrolled": false
   },
   "outputs": [
    {
     "data": {
      "text/plain": [
       "<AxesSubplot:>"
      ]
     },
     "execution_count": 14,
     "metadata": {},
     "output_type": "execute_result"
    },
    {
     "data": {
      "image/png": "[encoded data removed]",
      "text/plain": [
       "<Figure size 1440x864 with 2 Axes>"
      ]
     },
     "metadata": {
      "needs_background": "light"
     },
     "output_type": "display_data"
    }
   ],
   "source": [
    "# Now look at NaNs in total_expenses instead of every one on their own (higher chance of seeing correlation):\n",
    "nan_corr = train.drop([\"PassengerId\", \"Transported\"], axis=1)\n",
    "nan_corr[\"Total_exp\"] = train.iloc[:, [7,8,9,10,11]].sum(axis=1, skipna=False)\n",
    "\n",
    "# Let's look at NaN-position-correlations:\n",
    "# -1: If missing in this col, definetly not missing in other col\n",
    "#  0: Absence of value has no correlation\n",
    "#  1: If NaN in one column then definetly NaN in other column too \n",
    "msno.heatmap(nan_corr.drop(['RoomService', 'FoodCourt', 'ShoppingMall', 'Spa', 'VRDeck'], axis=1))\n",
    "\n",
    "# Interesting fact:\n",
    "# The method just uses the correlation you can get with train.isna().corr()\n",
    "# sns.heatmap(train.drop([\"PassengerId\", \"Transported\"], axis=1).isnull().corr(), vmin=-1, vmax=1, cmap=\"YlGnBu\")"
   ]
  },
  {
   "cell_type": "code",
   "execution_count": 15,
   "id": "d851fbfd",
   "metadata": {},
   "outputs": [
    {
     "name": "stdout",
     "output_type": "stream",
     "text": [
      "One    0.009709\n",
      "Two    0.019227\n",
      "dtype: float64\n",
      "          One       Two\n",
      "One  0.009709 -0.000190\n",
      "Two -0.000190  0.019227\n"
     ]
    },
    {
     "data": {
      "text/html": [
       "<div>\n",
       "<style scoped>\n",
       "    .dataframe tbody tr th:only-of-type {\n",
       "        vertical-align: middle;\n",
       "    }\n",
       "\n",
       "    .dataframe tbody tr th {\n",
       "        vertical-align: top;\n",
       "    }\n",
       "\n",
       "    .dataframe thead th {\n",
       "        text-align: right;\n",
       "    }\n",
       "</style>\n",
       "<table border=\"1\" class=\"dataframe\">\n",
       "  <thead>\n",
       "    <tr style=\"text-align: right;\">\n",
       "      <th></th>\n",
       "      <th>One</th>\n",
       "      <th>Two</th>\n",
       "    </tr>\n",
       "  </thead>\n",
       "  <tbody>\n",
       "    <tr>\n",
       "      <th>One</th>\n",
       "      <td>1.000000</td>\n",
       "      <td>-0.013933</td>\n",
       "    </tr>\n",
       "    <tr>\n",
       "      <th>Two</th>\n",
       "      <td>-0.013933</td>\n",
       "      <td>1.000000</td>\n",
       "    </tr>\n",
       "  </tbody>\n",
       "</table>\n",
       "</div>"
      ],
      "text/plain": [
       "          One       Two\n",
       "One  1.000000 -0.013933\n",
       "Two -0.013933  1.000000"
      ]
     },
     "execution_count": 15,
     "metadata": {},
     "output_type": "execute_result"
    }
   ],
   "source": [
    "# Further interesting: The correlation coefficent is only very little influenced by more values \n",
    "# (so 1 different, 10 same similar to 1 different 1000 same)\n",
    "\n",
    "n = 100\n",
    "a = pd.DataFrame({\"One\":[False, True, True] + n*[True],\n",
    "                 \"Two\":[True, False, False] + n*[True]})\n",
    "print(a.var())\n",
    "print(a.cov())\n",
    "a.corr()"
   ]
  },
  {
   "cell_type": "code",
   "execution_count": 76,
   "id": "51e4868a",
   "metadata": {},
   "outputs": [
    {
     "data": {
      "text/plain": [
       "0       False\n",
       "1       False\n",
       "2        True\n",
       "3       False\n",
       "4       False\n",
       "        ...  \n",
       "8688     True\n",
       "8689    False\n",
       "8690    False\n",
       "8691    False\n",
       "8692    False\n",
       "Name: VIP, Length: 8693, dtype: bool"
      ]
     },
     "execution_count": 76,
     "metadata": {},
     "output_type": "execute_result"
    }
   ],
   "source": [
    "train.VIP.astype(bool)"
   ]
  },
  {
   "cell_type": "code",
   "execution_count": 71,
   "id": "a4f8e1cf",
   "metadata": {},
   "outputs": [
    {
     "data": {
      "text/html": [
       "<div>\n",
       "<style scoped>\n",
       "    .dataframe tbody tr th:only-of-type {\n",
       "        vertical-align: middle;\n",
       "    }\n",
       "\n",
       "    .dataframe tbody tr th {\n",
       "        vertical-align: top;\n",
       "    }\n",
       "\n",
       "    .dataframe thead th {\n",
       "        text-align: right;\n",
       "    }\n",
       "</style>\n",
       "<table border=\"1\" class=\"dataframe\">\n",
       "  <thead>\n",
       "    <tr style=\"text-align: right;\">\n",
       "      <th></th>\n",
       "      <th>Age</th>\n",
       "      <th>RoomService</th>\n",
       "      <th>FoodCourt</th>\n",
       "      <th>ShoppingMall</th>\n",
       "      <th>Spa</th>\n",
       "      <th>VRDeck</th>\n",
       "      <th>Transported</th>\n",
       "    </tr>\n",
       "  </thead>\n",
       "  <tbody>\n",
       "    <tr>\n",
       "      <th>Age</th>\n",
       "      <td>1.000000</td>\n",
       "      <td>0.068723</td>\n",
       "      <td>0.130421</td>\n",
       "      <td>0.033133</td>\n",
       "      <td>0.123970</td>\n",
       "      <td>0.101007</td>\n",
       "      <td>-0.075026</td>\n",
       "    </tr>\n",
       "    <tr>\n",
       "      <th>RoomService</th>\n",
       "      <td>0.068723</td>\n",
       "      <td>1.000000</td>\n",
       "      <td>-0.015889</td>\n",
       "      <td>0.054480</td>\n",
       "      <td>0.010080</td>\n",
       "      <td>-0.019581</td>\n",
       "      <td>-0.244611</td>\n",
       "    </tr>\n",
       "    <tr>\n",
       "      <th>FoodCourt</th>\n",
       "      <td>0.130421</td>\n",
       "      <td>-0.015889</td>\n",
       "      <td>1.000000</td>\n",
       "      <td>-0.014228</td>\n",
       "      <td>0.221891</td>\n",
       "      <td>0.227995</td>\n",
       "      <td>0.046566</td>\n",
       "    </tr>\n",
       "    <tr>\n",
       "      <th>ShoppingMall</th>\n",
       "      <td>0.033133</td>\n",
       "      <td>0.054480</td>\n",
       "      <td>-0.014228</td>\n",
       "      <td>1.000000</td>\n",
       "      <td>0.013879</td>\n",
       "      <td>-0.007322</td>\n",
       "      <td>0.010141</td>\n",
       "    </tr>\n",
       "    <tr>\n",
       "      <th>Spa</th>\n",
       "      <td>0.123970</td>\n",
       "      <td>0.010080</td>\n",
       "      <td>0.221891</td>\n",
       "      <td>0.013879</td>\n",
       "      <td>1.000000</td>\n",
       "      <td>0.153821</td>\n",
       "      <td>-0.221131</td>\n",
       "    </tr>\n",
       "    <tr>\n",
       "      <th>VRDeck</th>\n",
       "      <td>0.101007</td>\n",
       "      <td>-0.019581</td>\n",
       "      <td>0.227995</td>\n",
       "      <td>-0.007322</td>\n",
       "      <td>0.153821</td>\n",
       "      <td>1.000000</td>\n",
       "      <td>-0.207075</td>\n",
       "    </tr>\n",
       "    <tr>\n",
       "      <th>Transported</th>\n",
       "      <td>-0.075026</td>\n",
       "      <td>-0.244611</td>\n",
       "      <td>0.046566</td>\n",
       "      <td>0.010141</td>\n",
       "      <td>-0.221131</td>\n",
       "      <td>-0.207075</td>\n",
       "      <td>1.000000</td>\n",
       "    </tr>\n",
       "  </tbody>\n",
       "</table>\n",
       "</div>"
      ],
      "text/plain": [
       "                   Age  RoomService  FoodCourt  ShoppingMall       Spa  \\\n",
       "Age           1.000000     0.068723   0.130421      0.033133  0.123970   \n",
       "RoomService   0.068723     1.000000  -0.015889      0.054480  0.010080   \n",
       "FoodCourt     0.130421    -0.015889   1.000000     -0.014228  0.221891   \n",
       "ShoppingMall  0.033133     0.054480  -0.014228      1.000000  0.013879   \n",
       "Spa           0.123970     0.010080   0.221891      0.013879  1.000000   \n",
       "VRDeck        0.101007    -0.019581   0.227995     -0.007322  0.153821   \n",
       "Transported  -0.075026    -0.244611   0.046566      0.010141 -0.221131   \n",
       "\n",
       "                VRDeck  Transported  \n",
       "Age           0.101007    -0.075026  \n",
       "RoomService  -0.019581    -0.244611  \n",
       "FoodCourt     0.227995     0.046566  \n",
       "ShoppingMall -0.007322     0.010141  \n",
       "Spa           0.153821    -0.221131  \n",
       "VRDeck        1.000000    -0.207075  \n",
       "Transported  -0.207075     1.000000  "
      ]
     },
     "execution_count": 71,
     "metadata": {},
     "output_type": "execute_result"
    }
   ],
   "source": [
    "train.corr()"
   ]
  },
  {
   "cell_type": "code",
   "execution_count": 69,
   "id": "bf326242",
   "metadata": {},
   "outputs": [
    {
     "data": {
      "text/html": [
       "<div>\n",
       "<style scoped>\n",
       "    .dataframe tbody tr th:only-of-type {\n",
       "        vertical-align: middle;\n",
       "    }\n",
       "\n",
       "    .dataframe tbody tr th {\n",
       "        vertical-align: top;\n",
       "    }\n",
       "\n",
       "    .dataframe thead th {\n",
       "        text-align: right;\n",
       "    }\n",
       "</style>\n",
       "<table border=\"1\" class=\"dataframe\">\n",
       "  <thead>\n",
       "    <tr style=\"text-align: right;\">\n",
       "      <th></th>\n",
       "      <th>num</th>\n",
       "      <th>bool</th>\n",
       "    </tr>\n",
       "  </thead>\n",
       "  <tbody>\n",
       "    <tr>\n",
       "      <th>num</th>\n",
       "      <td>1.000000</td>\n",
       "      <td>0.974873</td>\n",
       "    </tr>\n",
       "    <tr>\n",
       "      <th>bool</th>\n",
       "      <td>0.974873</td>\n",
       "      <td>1.000000</td>\n",
       "    </tr>\n",
       "  </tbody>\n",
       "</table>\n",
       "</div>"
      ],
      "text/plain": [
       "           num      bool\n",
       "num   1.000000  0.974873\n",
       "bool  0.974873  1.000000"
      ]
     },
     "execution_count": 69,
     "metadata": {},
     "output_type": "execute_result"
    }
   ],
   "source": [
    "# Just to show why it makes sense to take correlation of numeric and not numeric (but be aware of lower variance?)\n",
    "ex = pd.DataFrame({\"num\" : [0, 100, 90, 80, 110, 20, 10, 0.5, 110],\n",
    "              \"bool\" : [False, True, True, True, True, False, False, False, True]})\n",
    "\n",
    "ex.corr()"
   ]
  },
  {
   "cell_type": "code",
   "execution_count": 16,
   "id": "251d19f6",
   "metadata": {},
   "outputs": [
    {
     "name": "stdout",
     "output_type": "stream",
     "text": [
      "One    0.252427\n",
      "Two    0.252427\n",
      "dtype: float64\n",
      "          One       Two\n",
      "One  0.252427  0.237769\n",
      "Two  0.237769  0.252427\n"
     ]
    },
    {
     "data": {
      "text/html": [
       "<div>\n",
       "<style scoped>\n",
       "    .dataframe tbody tr th:only-of-type {\n",
       "        vertical-align: middle;\n",
       "    }\n",
       "\n",
       "    .dataframe tbody tr th {\n",
       "        vertical-align: top;\n",
       "    }\n",
       "\n",
       "    .dataframe thead th {\n",
       "        text-align: right;\n",
       "    }\n",
       "</style>\n",
       "<table border=\"1\" class=\"dataframe\">\n",
       "  <thead>\n",
       "    <tr style=\"text-align: right;\">\n",
       "      <th></th>\n",
       "      <th>One</th>\n",
       "      <th>Two</th>\n",
       "    </tr>\n",
       "  </thead>\n",
       "  <tbody>\n",
       "    <tr>\n",
       "      <th>One</th>\n",
       "      <td>1.000000</td>\n",
       "      <td>0.941931</td>\n",
       "    </tr>\n",
       "    <tr>\n",
       "      <th>Two</th>\n",
       "      <td>0.941931</td>\n",
       "      <td>1.000000</td>\n",
       "    </tr>\n",
       "  </tbody>\n",
       "</table>\n",
       "</div>"
      ],
      "text/plain": [
       "          One       Two\n",
       "One  1.000000  0.941931\n",
       "Two  0.941931  1.000000"
      ]
     },
     "execution_count": 16,
     "metadata": {},
     "output_type": "execute_result"
    }
   ],
   "source": [
    "# Here: We have higher variance for each of the features -> this increases the covariance\n",
    "# Also: Covariance changes with feature scale, correlation keeps the same\n",
    "\n",
    "n = 50\n",
    "a = pd.DataFrame({\"One\":[False, True, True] + n*[True] + n*[False],\n",
    "                 \"Two\":[True, False, False] + n*[True] + n*[False]})\n",
    "print(a.var())\n",
    "print(a.cov())\n",
    "a.corr()"
   ]
  },
  {
   "cell_type": "code",
   "execution_count": 17,
   "id": "8888de84",
   "metadata": {},
   "outputs": [
    {
     "name": "stdout",
     "output_type": "stream",
     "text": [
      "HomePlanet     0.022590\n",
      "CryoSleep      0.024342\n",
      "Cabin          0.022371\n",
      "Destination    0.020500\n",
      "Age            0.020170\n",
      "VIP            0.022809\n",
      "Name           0.022480\n",
      "Total_exp      0.093552\n",
      "dtype: float64\n",
      "HomePlanet     0.087077\n",
      "CryoSleep      0.093210\n",
      "Cabin          0.086301\n",
      "Destination    0.079640\n",
      "Age            0.078450\n",
      "VIP            0.087850\n",
      "Name           0.086689\n",
      "Total_exp      0.245902\n",
      "dtype: float64\n"
     ]
    },
    {
     "data": {
      "text/plain": [
       "<AxesSubplot:>"
      ]
     },
     "execution_count": 17,
     "metadata": {},
     "output_type": "execute_result"
    },
    {
     "data": {
      "image/png": "[encoded data removed]",
      "text/plain": [
       "<Figure size 1440x864 with 2 Axes>"
      ]
     },
     "metadata": {
      "needs_background": "light"
     },
     "output_type": "display_data"
    }
   ],
   "source": [
    "# So in this case where correlations are very low, it can make sense to exclude the rows with full data (so no NaNs)\n",
    "# from the analysis, since they will decrease the variance (75% are full rows):\n",
    "nan_corr = nan_corr.drop(['RoomService', 'FoodCourt', 'ShoppingMall', 'Spa', 'VRDeck'], axis=1)\n",
    "print(nan_corr.isna().var())\n",
    "print(nan_corr[nan_corr.isna().any(1)].isna().var())\n",
    "\n",
    "# This will not change anything regarding the relation of the correlations, just the magnitude is higher and \n",
    "# small realtions more obvious. Still only very little correlations\n",
    "msno.heatmap(nan_corr[nan_corr.isna().any(1)])"
   ]
  },
  {
   "cell_type": "markdown",
   "id": "c5618ad3",
   "metadata": {},
   "source": [
    "**Findings of NaN-analysis:**\n",
    "- PassengerId and Transported (target variable) have no missing values\n",
    "- in general rows all have >= 11 values so <= 3 missing values in total, for the most part so deletion of rows does not make any sense\n",
    "- there is no strong correlation between the occurence of missing values in different columns (so no systematic behind the distribution of missing values\n",
    "- Does it make sense to know correlations between when NaN and certain values in other col? Maybe if this is NaN always Transported? ..."
   ]
  },
  {
   "cell_type": "markdown",
   "id": "b35374a5",
   "metadata": {},
   "source": [
    "### 2.3 Analyze each column and its influence on the target variable"
   ]
  },
  {
   "cell_type": "markdown",
   "id": "48d234bc",
   "metadata": {},
   "source": [
    "#### 2.3.1 PassengerID \n",
    "> A unique Id for each passenger. Each Id takes the form gggg_pp where gggg indicates a group the passenger is travelling with and pp is their number within the group. People in a group are often family members, but not always."
   ]
  },
  {
   "cell_type": "code",
   "execution_count": 18,
   "id": "9772a588",
   "metadata": {},
   "outputs": [
    {
     "name": "stdout",
     "output_type": "stream",
     "text": [
      "The train dataset contains 8693 records of passengers.\n"
     ]
    }
   ],
   "source": [
    "print(f\"The train dataset contains {len(train)} records of passengers.\")"
   ]
  },
  {
   "cell_type": "code",
   "execution_count": 19,
   "id": "63fed0e7",
   "metadata": {},
   "outputs": [
    {
     "data": {
      "text/plain": [
       "1"
      ]
     },
     "execution_count": 19,
     "metadata": {},
     "output_type": "execute_result"
    }
   ],
   "source": [
    "train.PassengerId.value_counts().max()\n",
    "\n",
    "# Every PassengerID is unique"
   ]
  },
  {
   "cell_type": "code",
   "execution_count": 20,
   "id": "6a00d118",
   "metadata": {},
   "outputs": [
    {
     "data": {
      "text/plain": [
       "0       0001_01\n",
       "1       0002_01\n",
       "2       0003_01\n",
       "3       0003_02\n",
       "4       0004_01\n",
       "         ...   \n",
       "8688    9276_01\n",
       "8689    9278_01\n",
       "8690    9279_01\n",
       "8691    9280_01\n",
       "8692    9280_02\n",
       "Name: PassengerId, Length: 8693, dtype: object"
      ]
     },
     "execution_count": 20,
     "metadata": {},
     "output_type": "execute_result"
    }
   ],
   "source": [
    "train.PassengerId"
   ]
  },
  {
   "cell_type": "markdown",
   "id": "b2c0d191",
   "metadata": {},
   "source": [
    "**Findings:** \n",
    "- Since there are 8693 passengers, and the ID starts from 1 and increases the count, some numbers have been skipped. Why? TO DO!\n",
    "- What is the meaning of \"_01\" and \"_02\" in the end of the ID? Possible new feature? It stands for the number inside the group"
   ]
  },
  {
   "cell_type": "markdown",
   "id": "05461c47",
   "metadata": {},
   "source": [
    "**Analyze the first part of number**"
   ]
  },
  {
   "cell_type": "code",
   "execution_count": 21,
   "id": "4537e4c4",
   "metadata": {},
   "outputs": [
    {
     "name": "stdout",
     "output_type": "stream",
     "text": [
      "Total number of groups: 6217\n",
      "\n",
      "Overview of group size and respective count:\n",
      "\n",
      "   Num_group_memb  Count\n",
      "0               1   4805\n",
      "1               2    841\n",
      "2               3    340\n",
      "3               4    103\n",
      "4               5     53\n",
      "5               6     29\n",
      "6               7     33\n",
      "7               8     13\n"
     ]
    }
   ],
   "source": [
    "num_how_often = train.PassengerId.str.split(\"_\", expand=True)[0].value_counts()\n",
    "\n",
    "num_how_often = num_how_often.to_frame(name=\"Num_group_memb\").reset_index(level=0).groupby(\"Num_group_memb\").count().reset_index(level=0)\n",
    "num_how_often.columns = [\"Num_group_memb\", \"Count\"]\n",
    "\n",
    "\n",
    "print(f\"Total number of groups: {num_how_often.Count.sum()}\\n\")\n",
    "print(f\"Overview of group size and respective count:\\n\")\n",
    "print(num_how_often)"
   ]
  },
  {
   "cell_type": "code",
   "execution_count": 22,
   "id": "66e91f6c",
   "metadata": {},
   "outputs": [
    {
     "data": {
      "image/png": "[encoded data removed]",
      "text/plain": [
       "<Figure size 432x288 with 1 Axes>"
      ]
     },
     "metadata": {
      "needs_background": "light"
     },
     "output_type": "display_data"
    }
   ],
   "source": [
    "num_how_often[(num_how_often.Num_group_memb > 1)].plot(x=\"Num_group_memb\", \n",
    "                                                       y=\"Count\", \n",
    "                                                       kind=\"bar\",\n",
    "                                                       ylabel=\"Count\",\n",
    "                                                       xlabel=\"Number of group members\",\n",
    "                                                       title=\"Distribution of number of group members (>1)\",\n",
    "                                                       legend=True)\n",
    "plt.show()"
   ]
  },
  {
   "cell_type": "markdown",
   "id": "7f370ccf",
   "metadata": {},
   "source": [
    "**Analyze the second part of number**"
   ]
  },
  {
   "cell_type": "code",
   "execution_count": 23,
   "id": "6144d007",
   "metadata": {},
   "outputs": [
    {
     "data": {
      "text/plain": [
       "01    6217\n",
       "02    1412\n",
       "03     571\n",
       "04     231\n",
       "05     128\n",
       "06      75\n",
       "07      46\n",
       "08      13\n",
       "Name: 1, dtype: int64"
      ]
     },
     "execution_count": 23,
     "metadata": {},
     "output_type": "execute_result"
    }
   ],
   "source": [
    "# Get an overview of the group sizes\n",
    "train.PassengerId.str.split(\"_\", expand=True)[1].value_counts()"
   ]
  },
  {
   "cell_type": "code",
   "execution_count": 24,
   "id": "56c06ca5",
   "metadata": {},
   "outputs": [
    {
     "data": {
      "text/plain": [
       "<AxesSubplot:xlabel='Ending number PassengerId'>"
      ]
     },
     "execution_count": 24,
     "metadata": {},
     "output_type": "execute_result"
    },
    {
     "data": {
      "image/png": "[encoded data removed]",
      "text/plain": [
       "<Figure size 432x288 with 1 Axes>"
      ]
     },
     "metadata": {
      "needs_background": "light"
     },
     "output_type": "display_data"
    }
   ],
   "source": [
    "# Since it only consits of numbers from 1 to 8, we will transform this to a numeric or categorical new feature\n",
    "\n",
    "# Check ratio of Transported/Not Transported for each group size\n",
    "end_num_trans = pd.concat([train.PassengerId.str.split(\"_\", expand=True)[1], train.Transported], axis=1) \\\n",
    "                    .groupby(1) \\\n",
    "                    .value_counts(\"Transported\") \\\n",
    "                    .reset_index() \\\n",
    "                    .pivot_table(index=1, columns=\"Transported\", values=0) \\\n",
    "                    .transpose() \n",
    "\n",
    "end_num_trans.plot(kind=\"bar\", xlabel=\"Ending number PassengerId\")\n",
    "\n",
    "# There is only a slight tnedency but in general we can observe that passengers assigned as the first group \n",
    "# member were more likely to get Transported than further group members (maybe they were children for example?)"
   ]
  },
  {
   "cell_type": "code",
   "execution_count": 25,
   "id": "f6f7430c",
   "metadata": {},
   "outputs": [
    {
     "data": {
      "image/png": "[encoded data removed]",
      "text/plain": [
       "<Figure size 576x360 with 1 Axes>"
      ]
     },
     "metadata": {
      "needs_background": "light"
     },
     "output_type": "display_data"
    }
   ],
   "source": [
    "# Look at the age distribution \n",
    "group_position_age = pd.concat([train.PassengerId.str.split(\"_\", expand=True)[1].to_frame(\"Group_pos\"), train.Age], axis=1)\n",
    "\n",
    "fig, ax = plt.subplots(figsize=(8,5))\n",
    "# group_position_age.groupby('Group_pos').plot(kind='kde', ax=ax, ) Wrong labeling.\n",
    "\n",
    "# Loop over grouped_by dataframe and get KDE for each group position up to 3\n",
    "for label, df in group_position_age.groupby('Group_pos'):\n",
    "    if label in [\"01\", \"02\", \"03\"]:\n",
    "        df.Age.plot(kind=\"kde\", ax=ax, label=label, xlim=(0,70))\n",
    "\n",
    "plt.title(\"Distribution of Age for different positions in travel-groups\")\n",
    "plt.xlabel(\"Age\")\n",
    "plt.legend(title=\"Group position\")\n",
    "plt.show()\n",
    "\n",
    "# We can clearly see that there is more probability mass in the younger ages (0-10) in comparison to the first \n",
    "# position, so the assumption, that passengers in second/third position are more likely kids is reasonable"
   ]
  },
  {
   "cell_type": "code",
   "execution_count": 26,
   "id": "5fa24918",
   "metadata": {},
   "outputs": [
    {
     "data": {
      "text/plain": [
       "<AxesSubplot:xlabel='Group_size'>"
      ]
     },
     "execution_count": 26,
     "metadata": {},
     "output_type": "execute_result"
    },
    {
     "data": {
      "image/png": "[encoded data removed]",
      "text/plain": [
       "<Figure size 432x288 with 1 Axes>"
      ]
     },
     "metadata": {
      "needs_background": "light"
     },
     "output_type": "display_data"
    }
   ],
   "source": [
    "# Add group size as variable\n",
    "group_size_df = train.PassengerId.str.split(\"_\", expand=True)\n",
    "group_size_df.columns = [\"ID\", \"Group_pos\"]\n",
    "group_size_df.Group_pos = group_size_df.Group_pos.str.replace(\"0\",\"\").astype(int)\n",
    "\n",
    "# Get dict with (\"ID\": group_size)\n",
    "group_size_dict = group_size_df.groupby(\"ID\").max().to_dict()[\"Group_pos\"]\n",
    "\n",
    "group_size_df[\"Group_size\"] = group_size_df.apply(lambda row: group_size_dict[row[\"ID\"]], axis=1)\n",
    "\n",
    "# Now let's plot again who was Transported depending on the size of group they were in \n",
    "group_size_transported = pd.concat([group_size_df.drop([\"Group_pos\", \"ID\"], axis=1), train.Transported], axis=1).groupby(\"Group_size\")\n",
    "group_size_transported.value_counts(\"Transported\").unstack().plot(kind=\"bar\")\n",
    "\n",
    "\n",
    "# Insight: People travelling in groups were more likely to be transported.\n",
    "# TO-DO: Add plot for mean age in groups"
   ]
  },
  {
   "cell_type": "markdown",
   "id": "364eafa9",
   "metadata": {},
   "source": [
    "**Decide on preprocessing of variable**\n",
    "\n",
    "We transform the column containing the PassengerId on string-format into three new columns:\n",
    "1. GroupID (str)   - Unique ID of the group the passenger is in\n",
    "2. GroupPos (int) - Position in the group, that is assigned to passenger\n",
    "3. GroupSize (int) - New feature, that assigns each passenger the size of the group he is part of\n",
    "\n",
    "As we have seen, especially the Group_size seems so have influence on the Transported-variable. But we have to keep in mind, that both new columns, GroupPos and GroupSize, have a high correlation (0.75). So it makes sense to only include one of them in the final model."
   ]
  },
  {
   "cell_type": "code",
   "execution_count": 41,
   "id": "3c458d83",
   "metadata": {},
   "outputs": [
    {
     "data": {
      "text/html": [
       "<div>\n",
       "<style scoped>\n",
       "    .dataframe tbody tr th:only-of-type {\n",
       "        vertical-align: middle;\n",
       "    }\n",
       "\n",
       "    .dataframe tbody tr th {\n",
       "        vertical-align: top;\n",
       "    }\n",
       "\n",
       "    .dataframe thead th {\n",
       "        text-align: right;\n",
       "    }\n",
       "</style>\n",
       "<table border=\"1\" class=\"dataframe\">\n",
       "  <thead>\n",
       "    <tr style=\"text-align: right;\">\n",
       "      <th></th>\n",
       "      <th>GroupID</th>\n",
       "      <th>GroupPos</th>\n",
       "      <th>GroupSize</th>\n",
       "    </tr>\n",
       "  </thead>\n",
       "  <tbody>\n",
       "    <tr>\n",
       "      <th>0</th>\n",
       "      <td>0001</td>\n",
       "      <td>1</td>\n",
       "      <td>1</td>\n",
       "    </tr>\n",
       "    <tr>\n",
       "      <th>1</th>\n",
       "      <td>0002</td>\n",
       "      <td>1</td>\n",
       "      <td>1</td>\n",
       "    </tr>\n",
       "    <tr>\n",
       "      <th>2</th>\n",
       "      <td>0003</td>\n",
       "      <td>1</td>\n",
       "      <td>2</td>\n",
       "    </tr>\n",
       "    <tr>\n",
       "      <th>3</th>\n",
       "      <td>0003</td>\n",
       "      <td>2</td>\n",
       "      <td>2</td>\n",
       "    </tr>\n",
       "    <tr>\n",
       "      <th>4</th>\n",
       "      <td>0004</td>\n",
       "      <td>1</td>\n",
       "      <td>1</td>\n",
       "    </tr>\n",
       "    <tr>\n",
       "      <th>...</th>\n",
       "      <td>...</td>\n",
       "      <td>...</td>\n",
       "      <td>...</td>\n",
       "    </tr>\n",
       "    <tr>\n",
       "      <th>8688</th>\n",
       "      <td>9276</td>\n",
       "      <td>1</td>\n",
       "      <td>1</td>\n",
       "    </tr>\n",
       "    <tr>\n",
       "      <th>8689</th>\n",
       "      <td>9278</td>\n",
       "      <td>1</td>\n",
       "      <td>1</td>\n",
       "    </tr>\n",
       "    <tr>\n",
       "      <th>8690</th>\n",
       "      <td>9279</td>\n",
       "      <td>1</td>\n",
       "      <td>1</td>\n",
       "    </tr>\n",
       "    <tr>\n",
       "      <th>8691</th>\n",
       "      <td>9280</td>\n",
       "      <td>1</td>\n",
       "      <td>2</td>\n",
       "    </tr>\n",
       "    <tr>\n",
       "      <th>8692</th>\n",
       "      <td>9280</td>\n",
       "      <td>2</td>\n",
       "      <td>2</td>\n",
       "    </tr>\n",
       "  </tbody>\n",
       "</table>\n",
       "<p>8693 rows × 3 columns</p>\n",
       "</div>"
      ],
      "text/plain": [
       "     GroupID  GroupPos  GroupSize\n",
       "0       0001         1          1\n",
       "1       0002         1          1\n",
       "2       0003         1          2\n",
       "3       0003         2          2\n",
       "4       0004         1          1\n",
       "...      ...       ...        ...\n",
       "8688    9276         1          1\n",
       "8689    9278         1          1\n",
       "8690    9279         1          1\n",
       "8691    9280         1          2\n",
       "8692    9280         2          2\n",
       "\n",
       "[8693 rows x 3 columns]"
      ]
     },
     "execution_count": 41,
     "metadata": {},
     "output_type": "execute_result"
    }
   ],
   "source": [
    "def preprocess_PassengerId(data):\n",
    "    \"\"\"\n",
    "    Preprocess PassengerID. Returns three columns:\n",
    "        1. GroupID   - Unique ID of the group the passenger is in\n",
    "        2. GroupPos  - Position in the group, that is assigned to passenger\n",
    "        3. GroupSize - New feature, that assigns each passenger the size of the group he is part of\n",
    "    \"\"\"\n",
    "    \n",
    "    new_ID = data.PassengerId.str.split(\"_\", expand=True)\n",
    "    new_ID.columns = [\"GroupID\", \"GroupPos\"]\n",
    "    new_ID.GroupPos = new_ID.GroupPos.str.replace(\"0\",\"\").astype(int)\n",
    "    \n",
    "    # Get dictionary of ID to GroupSize\n",
    "    group_size_dict = new_ID.groupby(\"GroupID\").max().to_dict()[\"GroupPos\"]\n",
    "    \n",
    "    # Assign group size to each row from dict\n",
    "    new_ID[\"GroupSize\"] = new_ID.apply(lambda row: group_size_dict[row[\"GroupID\"]], axis=1)\n",
    "    \n",
    "    return new_ID\n",
    "\n",
    "preprocess_PassengerId(train)"
   ]
  },
  {
   "cell_type": "markdown",
   "id": "9653f531",
   "metadata": {},
   "source": [
    "#### 2.3.2 HomePlanet"
   ]
  },
  {
   "cell_type": "code",
   "execution_count": null,
   "id": "a1cdf0c2",
   "metadata": {
    "scrolled": true
   },
   "outputs": [],
   "source": [
    "train.HomePlanet.value_counts(normalize=True).plot(kind=\"bar\", rot=0, title=\"Distribution of HomePlanet\")"
   ]
  },
  {
   "cell_type": "code",
   "execution_count": null,
   "id": "c483fd01",
   "metadata": {},
   "outputs": [],
   "source": [
    "train[[\"HomePlanet\", \"Transported\"]].groupby(\"HomePlanet\").value_counts().unstack().plot(kind=\"bar\", \n",
    "                                                                                         rot=0, \n",
    "                                                                                         title=\"HomePlanet vs. Transported\")"
   ]
  },
  {
   "cell_type": "code",
   "execution_count": null,
   "id": "5a8f8613",
   "metadata": {},
   "outputs": [],
   "source": [
    "train[[\"HomePlanet\", \"CryoSleep\"]].groupby(\"HomePlanet\").value_counts().unstack().plot(kind=\"bar\", rot=0, title=\"HomePlanet vs. CryoSleep\")"
   ]
  },
  {
   "cell_type": "code",
   "execution_count": null,
   "id": "23ef5f06",
   "metadata": {
    "scrolled": true
   },
   "outputs": [],
   "source": [
    "train[[\"HomePlanet\", \"VIP\"]].groupby(\"HomePlanet\").value_counts().unstack().plot(kind=\"bar\", rot=0, title=\"HomePlanet vs. CryoSleep\")"
   ]
  },
  {
   "cell_type": "code",
   "execution_count": null,
   "id": "d83de911",
   "metadata": {},
   "outputs": [],
   "source": [
    "hi = train.iloc[:, [1,2,7,8,9,10,11]]\n",
    "hi[hi.CryoSleep==True]"
   ]
  },
  {
   "cell_type": "code",
   "execution_count": null,
   "id": "d57f432f",
   "metadata": {},
   "outputs": [],
   "source": [
    "home_expenses = train.iloc[:, [1,7,8,9,10,11]]\n",
    "all_expenses = home_expenses.iloc[:, 1:].sum(axis=1)\n",
    "\n",
    "all_expenses_by_home = pd.concat([home_expenses.HomePlanet, all_expenses.rename(\"AllExpenses\")], axis=1).groupby(\"HomePlanet\").mean()\n",
    "\n",
    "all_expenses_by_home.sort_values(\"AllExpenses\", ascending=False).plot(kind=\"bar\", ylabel=\"Avg. expenses on board\")"
   ]
  },
  {
   "cell_type": "code",
   "execution_count": null,
   "id": "5178fe7d",
   "metadata": {},
   "outputs": [],
   "source": [
    "# Now we exclude the ones in CryoSleep because they cannot pay that much since they are bound to their cabin\n",
    "expenses_home_cryo = pd.concat([train[[\"HomePlanet\", \"CryoSleep\"]], all_expenses.rename(\"AllExpenses\")], axis=1)\n",
    "\n",
    "results_cryo_expenses = expenses_home_cryo.pivot_table(index=\"HomePlanet\", columns=\"CryoSleep\", values=\"AllExpenses\", aggfunc=\"mean\")\n",
    "print(results_cryo_expenses.round())\n",
    "\n",
    "# We can see that no expenses are done in CryoSleep! Now the averages for paying visitors are even higher:\n",
    "results_cryo_expenses.iloc[:,0].sort_values(ascending=False).plot(kind=\"barh\", rot=0)"
   ]
  },
  {
   "cell_type": "markdown",
   "id": "20fc5efa",
   "metadata": {},
   "source": [
    "**To-Do:**\n",
    "- for each of the three home planets show distribution of some important features together with Trans/Not Trans in different colours in one plot (3 rows, 4 cols, each plot two groups) to identify different groups \n",
    "- for imputation of CryoSleep and vice versa: where expenses are 0 -> CryoSleep = 1, CryoSleep=1 -> expenses 0"
   ]
  },
  {
   "cell_type": "code",
   "execution_count": null,
   "id": "709ee830",
   "metadata": {},
   "outputs": [],
   "source": [
    "cryo_expenses.CryoSleep.isnull().sum()\n",
    "cryo_expenses[0].isnull().sum()"
   ]
  },
  {
   "cell_type": "code",
   "execution_count": null,
   "id": "4d4bc8ae",
   "metadata": {},
   "outputs": [],
   "source": [
    "cryo_expenses[cryo_expenses.CryoSleep.isnull()]"
   ]
  },
  {
   "cell_type": "code",
   "execution_count": null,
   "id": "600685f3",
   "metadata": {},
   "outputs": [],
   "source": [
    "cryo_expenses[cryo_expenses.isna().any(1)]"
   ]
  },
  {
   "cell_type": "code",
   "execution_count": null,
   "id": "14a240d3",
   "metadata": {},
   "outputs": [],
   "source": [
    "# Compute all expense but keep NaN if one is NaN\n",
    "all_expenses_NaN = home_expenses.iloc[:, 1:].sum(axis=1, skipna=False)\n",
    "cryo_expenses = pd.concat([train.CryoSleep, all_expenses_NaN], axis=1)\n",
    "\n",
    "print(len(cryo_expenses[cryo_expenses.isna().any(1)])) # Total where one or both are NaN\n",
    "print(cryo_expenses[cryo_expenses.CryoSleep.isna() &  ~cryo_expenses[0].isna()].shape[0]) # Can be 100% resolved\n",
    "print(cryo_expenses[cryo_expenses[0].isna() &  cryo_expenses.CryoSleep==True].shape[0]) # Can be 100% resolved"
   ]
  },
  {
   "cell_type": "code",
   "execution_count": null,
   "id": "bb570134",
   "metadata": {},
   "outputs": [],
   "source": [
    "# TO-DO: Do it in nicer way!\n",
    "hi = train.iloc[:, [1,2,7,8,9,10,11]].copy()\n",
    "hi[hi.CryoSleep==True]"
   ]
  },
  {
   "cell_type": "code",
   "execution_count": null,
   "id": "49043259",
   "metadata": {},
   "outputs": [],
   "source": [
    "hi[\"Total_exp\"] = hi.iloc[:, 2:].sum(axis=1, skipna=False)\n",
    "nan_expenses = hi[hi.Total_exp.isna()]\n",
    "nan_expenses[nan_expenses.CryoSleep == True] # CryoSleep + NaN in expenses? - 347 rows: just fill in 0 for each expense\n",
    "\n",
    "# NaN CryoSleep + Expenses not NaN: -> True is ==0, False if >0\n",
    "# NaN CryoSleep + Expenses NaN:  1) only zeros other than NaN? -> CryoSleep=True, RestExp=0\n",
    "#                                2) at least one value >0? -> CryoSleep=False, RestExp=mean of HomePlanet (TO-DO)\n",
    "nan_expenses[nan_expenses.CryoSleep.isna()]"
   ]
  },
  {
   "cell_type": "markdown",
   "id": "6b0485b2",
   "metadata": {},
   "source": [
    "#### 2.3.3 CryoSleep"
   ]
  },
  {
   "cell_type": "code",
   "execution_count": null,
   "id": "9f13a9ad",
   "metadata": {},
   "outputs": [],
   "source": []
  },
  {
   "cell_type": "markdown",
   "id": "9685c924",
   "metadata": {},
   "source": [
    "#### 2.3.4 Cabin"
   ]
  },
  {
   "cell_type": "code",
   "execution_count": null,
   "id": "410dd4ed",
   "metadata": {},
   "outputs": [],
   "source": []
  },
  {
   "cell_type": "markdown",
   "id": "6eafe4cc",
   "metadata": {},
   "source": [
    "#### 2.3.5 Destination"
   ]
  },
  {
   "cell_type": "code",
   "execution_count": null,
   "id": "441d64ef",
   "metadata": {},
   "outputs": [],
   "source": []
  },
  {
   "cell_type": "markdown",
   "id": "9bc49d42",
   "metadata": {},
   "source": [
    "#### 2.3.6 Age"
   ]
  },
  {
   "cell_type": "code",
   "execution_count": null,
   "id": "f680eef8",
   "metadata": {},
   "outputs": [],
   "source": []
  },
  {
   "cell_type": "markdown",
   "id": "31f974f9",
   "metadata": {},
   "source": [
    "#### 2.3.7 VIP"
   ]
  },
  {
   "cell_type": "code",
   "execution_count": null,
   "id": "5a3d6d81",
   "metadata": {},
   "outputs": [],
   "source": []
  },
  {
   "cell_type": "markdown",
   "id": "bf1a9d90",
   "metadata": {},
   "source": [
    "#### 2.3.8 RoomService"
   ]
  },
  {
   "cell_type": "code",
   "execution_count": null,
   "id": "6c14c565",
   "metadata": {},
   "outputs": [],
   "source": []
  },
  {
   "cell_type": "markdown",
   "id": "6d229a77",
   "metadata": {},
   "source": [
    "#### 2.3.9. FoodCourt"
   ]
  },
  {
   "cell_type": "code",
   "execution_count": null,
   "id": "6b631d43",
   "metadata": {},
   "outputs": [],
   "source": []
  },
  {
   "cell_type": "markdown",
   "id": "2a0552ce",
   "metadata": {},
   "source": [
    "#### 2.3.10 ShoppingMall"
   ]
  },
  {
   "cell_type": "code",
   "execution_count": null,
   "id": "71438281",
   "metadata": {},
   "outputs": [],
   "source": []
  },
  {
   "cell_type": "markdown",
   "id": "ba131753",
   "metadata": {},
   "source": [
    "#### 2.3.11 Spa"
   ]
  },
  {
   "cell_type": "code",
   "execution_count": null,
   "id": "b0511abe",
   "metadata": {},
   "outputs": [],
   "source": []
  },
  {
   "cell_type": "markdown",
   "id": "a72e547d",
   "metadata": {},
   "source": [
    "#### 2.3.12 VRDeck"
   ]
  },
  {
   "cell_type": "code",
   "execution_count": null,
   "id": "38f55001",
   "metadata": {},
   "outputs": [],
   "source": []
  },
  {
   "cell_type": "markdown",
   "id": "c75315fc",
   "metadata": {},
   "source": [
    "#### 2.3.13 Name"
   ]
  },
  {
   "cell_type": "code",
   "execution_count": null,
   "id": "3f71af3b",
   "metadata": {},
   "outputs": [],
   "source": []
  },
  {
   "cell_type": "markdown",
   "id": "e13028f9",
   "metadata": {},
   "source": [
    "#### 2.3.14 Transported - Target Variable"
   ]
  },
  {
   "cell_type": "markdown",
   "id": "e5b32e70",
   "metadata": {},
   "source": [
    "**TO-DO: Put this analysis first.**"
   ]
  },
  {
   "cell_type": "code",
   "execution_count": null,
   "id": "d8216456",
   "metadata": {},
   "outputs": [],
   "source": []
  },
  {
   "cell_type": "markdown",
   "id": "8aa9f185",
   "metadata": {},
   "source": [
    "## 3. Preprocess the data"
   ]
  },
  {
   "cell_type": "code",
   "execution_count": null,
   "id": "4870c733",
   "metadata": {},
   "outputs": [],
   "source": []
  },
  {
   "cell_type": "markdown",
   "id": "23dc9056",
   "metadata": {},
   "source": [
    "## 4. Engineer models and predict target variable"
   ]
  },
  {
   "cell_type": "markdown",
   "id": "9d832449",
   "metadata": {},
   "source": [
    "#### Compare different Imputation-strategies (What about sampling from KDE?, Multiple-Imputaiton? Gibbs Sampling? EM-Algorithm?), so first 100% imputation and then compare mean/mode with fancier techniques"
   ]
  },
  {
   "cell_type": "code",
   "execution_count": null,
   "id": "ab527a87",
   "metadata": {},
   "outputs": [],
   "source": []
  }
 ],
 "metadata": {
  "kernelspec": {
   "display_name": "Python 3 (ipykernel)",
   "language": "python",
   "name": "python3"
  },
  "language_info": {
   "codemirror_mode": {
    "name": "ipython",
    "version": 3
   },
   "file_extension": ".py",
   "mimetype": "text/x-python",
   "name": "python",
   "nbconvert_exporter": "python",
   "pygments_lexer": "ipython3",
   "version": "3.9.12"
  }
 },
 "nbformat": 4,
 "nbformat_minor": 5
}
