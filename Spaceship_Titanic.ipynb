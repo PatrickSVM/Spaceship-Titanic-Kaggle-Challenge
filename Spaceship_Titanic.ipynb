{
 "cells": [
  {
   "cell_type": "markdown",
   "id": "daf353db",
   "metadata": {},
   "source": [
    "# Spaceship Titanic Kaggle Challenge"
   ]
  },
  {
   "cell_type": "markdown",
   "id": "3f1e4c14",
   "metadata": {},
   "source": [
    "## 1. Import dependencies and load data"
   ]
  },
  {
   "cell_type": "markdown",
   "id": "da0d5102",
   "metadata": {},
   "source": [
    "### 1.1 Install dependencies"
   ]
  },
  {
   "cell_type": "code",
   "execution_count": 1,
   "id": "d000f625",
   "metadata": {},
   "outputs": [],
   "source": [
    "%%capture\n",
    "\n",
    "! pip install pandas\n",
    "! pip install numpy\n",
    "! pip install matplotlib\n",
    "! pip install seaborn\n",
    "! pip install missingno\n",
    "\n",
    "\n",
    "# this code is only necessary for Mac M1 Chip\n",
    "! pip install tensorflow-macos\n",
    "! pip install tensorflow-metal"
   ]
  },
  {
   "cell_type": "markdown",
   "id": "24061c89",
   "metadata": {},
   "source": [
    "### 1.2 Import dependencies"
   ]
  },
  {
   "cell_type": "code",
   "execution_count": 2,
   "id": "69e7cc7c",
   "metadata": {},
   "outputs": [],
   "source": [
    "import matplotlib.pyplot as plt\n",
    "import pandas as pd\n",
    "import tensorflow as tf\n",
    "import tensorflow.keras as keras\n",
    "import numpy as np\n",
    "import seaborn as sns\n",
    "import missingno as msno"
   ]
  },
  {
   "cell_type": "markdown",
   "id": "89d00429",
   "metadata": {},
   "source": [
    "### 1.3 Load the data"
   ]
  },
  {
   "cell_type": "code",
   "execution_count": 45,
   "id": "4d2aad1c",
   "metadata": {},
   "outputs": [],
   "source": [
    "train = pd.read_csv(\"./spaceship-titanic/train.csv\")\n",
    "test = pd.read_csv(\"./spaceship-titanic/test.csv\")"
   ]
  },
  {
   "cell_type": "markdown",
   "id": "f807c49d",
   "metadata": {},
   "source": [
    "## 2. Analyze the dataset"
   ]
  },
  {
   "cell_type": "markdown",
   "id": "5c12b5d9",
   "metadata": {},
   "source": [
    "### 2.1 Description of the dataset\n",
    "\n",
    "**train.csv** - Personal records for about two-thirds (~8700) of the passengers, to be used as training data.\n",
    "\n",
    "1. **PassengerId** - A unique Id for each passenger. Each Id takes the form gggg_pp where gggg indicates a group the passenger is travelling with and pp is their number within the group. People in a group are often family members, but not always.\n",
    "2. **HomePlanet** - The planet the passenger departed from, typically their planet of permanent residence.\n",
    "3. **CryoSleep** - Indicates whether the passenger elected to be put into suspended animation for the duration of the voyage. Passengers in cryosleep are confined to their cabins.\n",
    "4. **Cabin** - The cabin number where the passenger is staying. Takes the form deck/num/side, where side can be either P for Port or S for Starboard.\n",
    "5. **Destination** - The planet the passenger will be debarking to.\n",
    "6. **Age** - The age of the passenger.\n",
    "7. **VIP** - Whether the passenger has paid for special VIP service during the voyage.\n",
    "9. **RoomService** - Amount the passenger has billed at each of the Spaceship Titanic's many luxury amenities.\n",
    "3. **FoodCourt** - Amount the passenger has billed at each of the Spaceship Titanic's many luxury amenities. \n",
    "3. **ShoppingMall** - Amount the passenger has billed at each of the Spaceship Titanic's many luxury amenities. \n",
    "3. **Spa** - Amount the passenger has billed at each of the Spaceship Titanic's many luxury amenities.\n",
    "3. **VRDeck** - Amount the passenger has billed at each of the Spaceship Titanic's many luxury amenities.\n",
    "10. **Name** - The first and last names of the passenger.\n",
    "11. **Transported** - Whether the passenger was transported to another dimension. This is the target, the column you are trying to predict.\n",
    "---\n",
    "**test.csv** - Personal records for the remaining one-third (~4300) of the passengers, to be used as test data. Your task is to predict the value of Transported for the passengers in this set. Same columns as train.csv.\n"
   ]
  },
  {
   "cell_type": "code",
   "execution_count": 4,
   "id": "82b5ce98",
   "metadata": {},
   "outputs": [
    {
     "data": {
      "text/html": [
       "<div>\n",
       "<style scoped>\n",
       "    .dataframe tbody tr th:only-of-type {\n",
       "        vertical-align: middle;\n",
       "    }\n",
       "\n",
       "    .dataframe tbody tr th {\n",
       "        vertical-align: top;\n",
       "    }\n",
       "\n",
       "    .dataframe thead th {\n",
       "        text-align: right;\n",
       "    }\n",
       "</style>\n",
       "<table border=\"1\" class=\"dataframe\">\n",
       "  <thead>\n",
       "    <tr style=\"text-align: right;\">\n",
       "      <th></th>\n",
       "      <th>PassengerId</th>\n",
       "      <th>HomePlanet</th>\n",
       "      <th>CryoSleep</th>\n",
       "      <th>Cabin</th>\n",
       "      <th>Destination</th>\n",
       "      <th>Age</th>\n",
       "      <th>VIP</th>\n",
       "      <th>RoomService</th>\n",
       "      <th>FoodCourt</th>\n",
       "      <th>ShoppingMall</th>\n",
       "      <th>Spa</th>\n",
       "      <th>VRDeck</th>\n",
       "      <th>Name</th>\n",
       "      <th>Transported</th>\n",
       "    </tr>\n",
       "  </thead>\n",
       "  <tbody>\n",
       "    <tr>\n",
       "      <th>0</th>\n",
       "      <td>0001_01</td>\n",
       "      <td>Europa</td>\n",
       "      <td>False</td>\n",
       "      <td>B/0/P</td>\n",
       "      <td>TRAPPIST-1e</td>\n",
       "      <td>39.0</td>\n",
       "      <td>False</td>\n",
       "      <td>0.0</td>\n",
       "      <td>0.0</td>\n",
       "      <td>0.0</td>\n",
       "      <td>0.0</td>\n",
       "      <td>0.0</td>\n",
       "      <td>Maham Ofracculy</td>\n",
       "      <td>False</td>\n",
       "    </tr>\n",
       "    <tr>\n",
       "      <th>1</th>\n",
       "      <td>0002_01</td>\n",
       "      <td>Earth</td>\n",
       "      <td>False</td>\n",
       "      <td>F/0/S</td>\n",
       "      <td>TRAPPIST-1e</td>\n",
       "      <td>24.0</td>\n",
       "      <td>False</td>\n",
       "      <td>109.0</td>\n",
       "      <td>9.0</td>\n",
       "      <td>25.0</td>\n",
       "      <td>549.0</td>\n",
       "      <td>44.0</td>\n",
       "      <td>Juanna Vines</td>\n",
       "      <td>True</td>\n",
       "    </tr>\n",
       "    <tr>\n",
       "      <th>2</th>\n",
       "      <td>0003_01</td>\n",
       "      <td>Europa</td>\n",
       "      <td>False</td>\n",
       "      <td>A/0/S</td>\n",
       "      <td>TRAPPIST-1e</td>\n",
       "      <td>58.0</td>\n",
       "      <td>True</td>\n",
       "      <td>43.0</td>\n",
       "      <td>3576.0</td>\n",
       "      <td>0.0</td>\n",
       "      <td>6715.0</td>\n",
       "      <td>49.0</td>\n",
       "      <td>Altark Susent</td>\n",
       "      <td>False</td>\n",
       "    </tr>\n",
       "    <tr>\n",
       "      <th>3</th>\n",
       "      <td>0003_02</td>\n",
       "      <td>Europa</td>\n",
       "      <td>False</td>\n",
       "      <td>A/0/S</td>\n",
       "      <td>TRAPPIST-1e</td>\n",
       "      <td>33.0</td>\n",
       "      <td>False</td>\n",
       "      <td>0.0</td>\n",
       "      <td>1283.0</td>\n",
       "      <td>371.0</td>\n",
       "      <td>3329.0</td>\n",
       "      <td>193.0</td>\n",
       "      <td>Solam Susent</td>\n",
       "      <td>False</td>\n",
       "    </tr>\n",
       "    <tr>\n",
       "      <th>4</th>\n",
       "      <td>0004_01</td>\n",
       "      <td>Earth</td>\n",
       "      <td>False</td>\n",
       "      <td>F/1/S</td>\n",
       "      <td>TRAPPIST-1e</td>\n",
       "      <td>16.0</td>\n",
       "      <td>False</td>\n",
       "      <td>303.0</td>\n",
       "      <td>70.0</td>\n",
       "      <td>151.0</td>\n",
       "      <td>565.0</td>\n",
       "      <td>2.0</td>\n",
       "      <td>Willy Santantines</td>\n",
       "      <td>True</td>\n",
       "    </tr>\n",
       "  </tbody>\n",
       "</table>\n",
       "</div>"
      ],
      "text/plain": [
       "  PassengerId HomePlanet CryoSleep  Cabin  Destination   Age    VIP  \\\n",
       "0     0001_01     Europa     False  B/0/P  TRAPPIST-1e  39.0  False   \n",
       "1     0002_01      Earth     False  F/0/S  TRAPPIST-1e  24.0  False   \n",
       "2     0003_01     Europa     False  A/0/S  TRAPPIST-1e  58.0   True   \n",
       "3     0003_02     Europa     False  A/0/S  TRAPPIST-1e  33.0  False   \n",
       "4     0004_01      Earth     False  F/1/S  TRAPPIST-1e  16.0  False   \n",
       "\n",
       "   RoomService  FoodCourt  ShoppingMall     Spa  VRDeck               Name  \\\n",
       "0          0.0        0.0           0.0     0.0     0.0    Maham Ofracculy   \n",
       "1        109.0        9.0          25.0   549.0    44.0       Juanna Vines   \n",
       "2         43.0     3576.0           0.0  6715.0    49.0      Altark Susent   \n",
       "3          0.0     1283.0         371.0  3329.0   193.0       Solam Susent   \n",
       "4        303.0       70.0         151.0   565.0     2.0  Willy Santantines   \n",
       "\n",
       "   Transported  \n",
       "0        False  \n",
       "1         True  \n",
       "2        False  \n",
       "3        False  \n",
       "4         True  "
      ]
     },
     "execution_count": 4,
     "metadata": {},
     "output_type": "execute_result"
    }
   ],
   "source": [
    "train.head()"
   ]
  },
  {
   "cell_type": "code",
   "execution_count": 5,
   "id": "2671cc18",
   "metadata": {},
   "outputs": [
    {
     "name": "stdout",
     "output_type": "stream",
     "text": [
      "<class 'pandas.core.frame.DataFrame'>\n",
      "RangeIndex: 8693 entries, 0 to 8692\n",
      "Data columns (total 14 columns):\n",
      " #   Column        Non-Null Count  Dtype  \n",
      "---  ------        --------------  -----  \n",
      " 0   PassengerId   8693 non-null   object \n",
      " 1   HomePlanet    8492 non-null   object \n",
      " 2   CryoSleep     8476 non-null   object \n",
      " 3   Cabin         8494 non-null   object \n",
      " 4   Destination   8511 non-null   object \n",
      " 5   Age           8514 non-null   float64\n",
      " 6   VIP           8490 non-null   object \n",
      " 7   RoomService   8512 non-null   float64\n",
      " 8   FoodCourt     8510 non-null   float64\n",
      " 9   ShoppingMall  8485 non-null   float64\n",
      " 10  Spa           8510 non-null   float64\n",
      " 11  VRDeck        8505 non-null   float64\n",
      " 12  Name          8493 non-null   object \n",
      " 13  Transported   8693 non-null   bool   \n",
      "dtypes: bool(1), float64(6), object(7)\n",
      "memory usage: 891.5+ KB\n"
     ]
    }
   ],
   "source": [
    "train.info()"
   ]
  },
  {
   "cell_type": "code",
   "execution_count": 6,
   "id": "39834d92",
   "metadata": {},
   "outputs": [
    {
     "data": {
      "text/html": [
       "<div>\n",
       "<style scoped>\n",
       "    .dataframe tbody tr th:only-of-type {\n",
       "        vertical-align: middle;\n",
       "    }\n",
       "\n",
       "    .dataframe tbody tr th {\n",
       "        vertical-align: top;\n",
       "    }\n",
       "\n",
       "    .dataframe thead th {\n",
       "        text-align: right;\n",
       "    }\n",
       "</style>\n",
       "<table border=\"1\" class=\"dataframe\">\n",
       "  <thead>\n",
       "    <tr style=\"text-align: right;\">\n",
       "      <th></th>\n",
       "      <th>Age</th>\n",
       "      <th>RoomService</th>\n",
       "      <th>FoodCourt</th>\n",
       "      <th>ShoppingMall</th>\n",
       "      <th>Spa</th>\n",
       "      <th>VRDeck</th>\n",
       "    </tr>\n",
       "  </thead>\n",
       "  <tbody>\n",
       "    <tr>\n",
       "      <th>count</th>\n",
       "      <td>8514.00</td>\n",
       "      <td>8512.00</td>\n",
       "      <td>8510.00</td>\n",
       "      <td>8485.00</td>\n",
       "      <td>8510.00</td>\n",
       "      <td>8505.00</td>\n",
       "    </tr>\n",
       "    <tr>\n",
       "      <th>mean</th>\n",
       "      <td>28.83</td>\n",
       "      <td>224.69</td>\n",
       "      <td>458.08</td>\n",
       "      <td>173.73</td>\n",
       "      <td>311.14</td>\n",
       "      <td>304.85</td>\n",
       "    </tr>\n",
       "    <tr>\n",
       "      <th>std</th>\n",
       "      <td>14.49</td>\n",
       "      <td>666.72</td>\n",
       "      <td>1611.49</td>\n",
       "      <td>604.70</td>\n",
       "      <td>1136.71</td>\n",
       "      <td>1145.72</td>\n",
       "    </tr>\n",
       "    <tr>\n",
       "      <th>min</th>\n",
       "      <td>0.00</td>\n",
       "      <td>0.00</td>\n",
       "      <td>0.00</td>\n",
       "      <td>0.00</td>\n",
       "      <td>0.00</td>\n",
       "      <td>0.00</td>\n",
       "    </tr>\n",
       "    <tr>\n",
       "      <th>25%</th>\n",
       "      <td>19.00</td>\n",
       "      <td>0.00</td>\n",
       "      <td>0.00</td>\n",
       "      <td>0.00</td>\n",
       "      <td>0.00</td>\n",
       "      <td>0.00</td>\n",
       "    </tr>\n",
       "    <tr>\n",
       "      <th>50%</th>\n",
       "      <td>27.00</td>\n",
       "      <td>0.00</td>\n",
       "      <td>0.00</td>\n",
       "      <td>0.00</td>\n",
       "      <td>0.00</td>\n",
       "      <td>0.00</td>\n",
       "    </tr>\n",
       "    <tr>\n",
       "      <th>75%</th>\n",
       "      <td>38.00</td>\n",
       "      <td>47.00</td>\n",
       "      <td>76.00</td>\n",
       "      <td>27.00</td>\n",
       "      <td>59.00</td>\n",
       "      <td>46.00</td>\n",
       "    </tr>\n",
       "    <tr>\n",
       "      <th>max</th>\n",
       "      <td>79.00</td>\n",
       "      <td>14327.00</td>\n",
       "      <td>29813.00</td>\n",
       "      <td>23492.00</td>\n",
       "      <td>22408.00</td>\n",
       "      <td>24133.00</td>\n",
       "    </tr>\n",
       "  </tbody>\n",
       "</table>\n",
       "</div>"
      ],
      "text/plain": [
       "           Age RoomService FoodCourt ShoppingMall       Spa    VRDeck\n",
       "count  8514.00     8512.00   8510.00      8485.00   8510.00   8505.00\n",
       "mean     28.83      224.69    458.08       173.73    311.14    304.85\n",
       "std      14.49      666.72   1611.49       604.70   1136.71   1145.72\n",
       "min       0.00        0.00      0.00         0.00      0.00      0.00\n",
       "25%      19.00        0.00      0.00         0.00      0.00      0.00\n",
       "50%      27.00        0.00      0.00         0.00      0.00      0.00\n",
       "75%      38.00       47.00     76.00        27.00     59.00     46.00\n",
       "max      79.00    14327.00  29813.00     23492.00  22408.00  24133.00"
      ]
     },
     "execution_count": 6,
     "metadata": {},
     "output_type": "execute_result"
    }
   ],
   "source": [
    "# Show description of all numeric features\n",
    "train.describe(include=float).applymap(lambda x: f\"{x:0.2f}\") # Round to 2 decimals\n",
    "\n",
    "# Interesting: .applymap() applies function elementwise, so to every element of DF"
   ]
  },
  {
   "cell_type": "code",
   "execution_count": 7,
   "id": "bf8caffd",
   "metadata": {
    "scrolled": true
   },
   "outputs": [
    {
     "data": {
      "text/html": [
       "<div>\n",
       "<style scoped>\n",
       "    .dataframe tbody tr th:only-of-type {\n",
       "        vertical-align: middle;\n",
       "    }\n",
       "\n",
       "    .dataframe tbody tr th {\n",
       "        vertical-align: top;\n",
       "    }\n",
       "\n",
       "    .dataframe thead th {\n",
       "        text-align: right;\n",
       "    }\n",
       "</style>\n",
       "<table border=\"1\" class=\"dataframe\">\n",
       "  <thead>\n",
       "    <tr style=\"text-align: right;\">\n",
       "      <th></th>\n",
       "      <th>PassengerId</th>\n",
       "      <th>HomePlanet</th>\n",
       "      <th>CryoSleep</th>\n",
       "      <th>Cabin</th>\n",
       "      <th>Destination</th>\n",
       "      <th>VIP</th>\n",
       "      <th>Name</th>\n",
       "      <th>Transported</th>\n",
       "    </tr>\n",
       "  </thead>\n",
       "  <tbody>\n",
       "    <tr>\n",
       "      <th>count</th>\n",
       "      <td>8693</td>\n",
       "      <td>8492</td>\n",
       "      <td>8476</td>\n",
       "      <td>8494</td>\n",
       "      <td>8511</td>\n",
       "      <td>8490</td>\n",
       "      <td>8493</td>\n",
       "      <td>8693</td>\n",
       "    </tr>\n",
       "    <tr>\n",
       "      <th>unique</th>\n",
       "      <td>8693</td>\n",
       "      <td>3</td>\n",
       "      <td>2</td>\n",
       "      <td>6560</td>\n",
       "      <td>3</td>\n",
       "      <td>2</td>\n",
       "      <td>8473</td>\n",
       "      <td>2</td>\n",
       "    </tr>\n",
       "    <tr>\n",
       "      <th>top</th>\n",
       "      <td>0001_01</td>\n",
       "      <td>Earth</td>\n",
       "      <td>False</td>\n",
       "      <td>G/734/S</td>\n",
       "      <td>TRAPPIST-1e</td>\n",
       "      <td>False</td>\n",
       "      <td>Gollux Reedall</td>\n",
       "      <td>True</td>\n",
       "    </tr>\n",
       "    <tr>\n",
       "      <th>freq</th>\n",
       "      <td>1</td>\n",
       "      <td>4602</td>\n",
       "      <td>5439</td>\n",
       "      <td>8</td>\n",
       "      <td>5915</td>\n",
       "      <td>8291</td>\n",
       "      <td>2</td>\n",
       "      <td>4378</td>\n",
       "    </tr>\n",
       "  </tbody>\n",
       "</table>\n",
       "</div>"
      ],
      "text/plain": [
       "       PassengerId HomePlanet CryoSleep    Cabin  Destination    VIP  \\\n",
       "count         8693       8492      8476     8494         8511   8490   \n",
       "unique        8693          3         2     6560            3      2   \n",
       "top        0001_01      Earth     False  G/734/S  TRAPPIST-1e  False   \n",
       "freq             1       4602      5439        8         5915   8291   \n",
       "\n",
       "                  Name Transported  \n",
       "count             8493        8693  \n",
       "unique            8473           2  \n",
       "top     Gollux Reedall        True  \n",
       "freq                 2        4378  "
      ]
     },
     "execution_count": 7,
     "metadata": {},
     "output_type": "execute_result"
    }
   ],
   "source": [
    "# Show all categorical and boolean features\n",
    "train.describe(include=[object, bool])"
   ]
  },
  {
   "cell_type": "markdown",
   "id": "fd6b8285",
   "metadata": {},
   "source": [
    "### 2.3 Check for NaN-values"
   ]
  },
  {
   "cell_type": "code",
   "execution_count": 132,
   "id": "2eaf8763",
   "metadata": {},
   "outputs": [
    {
     "name": "stdout",
     "output_type": "stream",
     "text": [
      "Number of rows:                      8693\n",
      "Number of rows with >= 1 NaN-value:  2087\n",
      "\n",
      "Percentage of 'full'-rows:           24.01%\n"
     ]
    }
   ],
   "source": [
    "print(f\"Number of rows:                      {len(train)}\")\n",
    "print(f\"Number of rows with >= 1 NaN-value:  {(train.isna().any(1).sum())}\")\n",
    "print(f\"\\nPercentage of 'full'-rows:           {(train.isna().any(1).sum()/len(train))*100:.2f}%\")"
   ]
  },
  {
   "cell_type": "code",
   "execution_count": 9,
   "id": "6d593e8b",
   "metadata": {},
   "outputs": [
    {
     "data": {
      "text/plain": [
       "<AxesSubplot:>"
      ]
     },
     "execution_count": 9,
     "metadata": {},
     "output_type": "execute_result"
    },
    {
     "data": {
      "image/png": "[encoded data removed]",
      "text/plain": [
       "<Figure size 432x288 with 1 Axes>"
      ]
     },
     "metadata": {
      "needs_background": "light"
     },
     "output_type": "display_data"
    }
   ],
   "source": [
    "train.isna().sum().sort_values().plot(kind=\"barh\")\n",
    "# All columns show more or less equal amounts of NaN values - besides Target variable and PassengerID which are 100%"
   ]
  },
  {
   "cell_type": "code",
   "execution_count": 10,
   "id": "45197826",
   "metadata": {
    "scrolled": false
   },
   "outputs": [
    {
     "data": {
      "image/png": "[encoded data removed]",
      "text/plain": [
       "<Figure size 1080x576 with 2 Axes>"
      ]
     },
     "metadata": {
      "needs_background": "light"
     },
     "output_type": "display_data"
    }
   ],
   "source": [
    "# Where are the NaN-values? All in same row or more distributed? \n",
    "plt.figure(figsize=(15,8)) # Do not use sns.set(...), this will change apperance of all plt plots!\n",
    "nan_plot = sns.heatmap(train.drop([\"PassengerId\", \"Transported\"], axis=1).isna(),\n",
    "            cmap=\"YlGnBu\",\n",
    "            cbar_kws={'label': 'Missing Data'})\n",
    "#new_labels = nan_plot.set_xticklabels(nan_plot.get_xticklabels(), rotation=45, horizontalalignment='right')"
   ]
  },
  {
   "cell_type": "code",
   "execution_count": 11,
   "id": "333024f4",
   "metadata": {},
   "outputs": [
    {
     "data": {
      "text/plain": [
       "<AxesSubplot:>"
      ]
     },
     "execution_count": 11,
     "metadata": {},
     "output_type": "execute_result"
    },
    {
     "data": {
      "image/png": "[encoded data removed]",
      "text/plain": [
       "<Figure size 1800x720 with 2 Axes>"
      ]
     },
     "metadata": {
      "needs_background": "light"
     },
     "output_type": "display_data"
    }
   ],
   "source": [
    "# Sns-heatmap was okay - but we want to search for pattern in NaN-position:\n",
    "msno.matrix(train)\n",
    "\n",
    "# We can see that there is a minimum of 11 non-NaN-values always present out of the 14 features\n",
    "# so in one row a max of three values is missing.\n",
    "# Most of them have all data (just a line, but not visible since too many), \n",
    "# many are missing one (first block), some are missing two (second block), very few are missing three (last block)"
   ]
  },
  {
   "cell_type": "code",
   "execution_count": 12,
   "id": "d84fd85a",
   "metadata": {},
   "outputs": [
    {
     "data": {
      "text/plain": [
       "<AxesSubplot:>"
      ]
     },
     "execution_count": 12,
     "metadata": {},
     "output_type": "execute_result"
    },
    {
     "data": {
      "image/png": "[encoded data removed]",
      "text/plain": [
       "<Figure size 432x288 with 1 Axes>"
      ]
     },
     "metadata": {
      "needs_background": "light"
     },
     "output_type": "display_data"
    }
   ],
   "source": [
    "row_nans = train.drop([\"PassengerId\", \"Transported\"], axis=1).isnull().sum(axis=1)\n",
    "row_nans[row_nans>0].value_counts().plot(kind=\"barh\")"
   ]
  },
  {
   "cell_type": "code",
   "execution_count": 82,
   "id": "6eb9f3c1",
   "metadata": {},
   "outputs": [
    {
     "data": {
      "text/html": [
       "<div>\n",
       "<style scoped>\n",
       "    .dataframe tbody tr th:only-of-type {\n",
       "        vertical-align: middle;\n",
       "    }\n",
       "\n",
       "    .dataframe tbody tr th {\n",
       "        vertical-align: top;\n",
       "    }\n",
       "\n",
       "    .dataframe thead th {\n",
       "        text-align: right;\n",
       "    }\n",
       "</style>\n",
       "<table border=\"1\" class=\"dataframe\">\n",
       "  <thead>\n",
       "    <tr style=\"text-align: right;\">\n",
       "      <th></th>\n",
       "      <th>HomePlanet</th>\n",
       "      <th>CryoSleep</th>\n",
       "      <th>Cabin</th>\n",
       "      <th>Destination</th>\n",
       "      <th>Age</th>\n",
       "      <th>VIP</th>\n",
       "      <th>RoomService</th>\n",
       "      <th>FoodCourt</th>\n",
       "      <th>ShoppingMall</th>\n",
       "      <th>Spa</th>\n",
       "      <th>VRDeck</th>\n",
       "      <th>Name</th>\n",
       "      <th>Total_exp</th>\n",
       "    </tr>\n",
       "  </thead>\n",
       "  <tbody>\n",
       "    <tr>\n",
       "      <th>HomePlanet</th>\n",
       "      <td>1.000000</td>\n",
       "      <td>-0.014804</td>\n",
       "      <td>0.007158</td>\n",
       "      <td>-0.001113</td>\n",
       "      <td>-0.011528</td>\n",
       "      <td>-0.008585</td>\n",
       "      <td>0.009729</td>\n",
       "      <td>-0.011897</td>\n",
       "      <td>0.010972</td>\n",
       "      <td>-0.006565</td>\n",
       "      <td>-0.017612</td>\n",
       "      <td>0.012128</td>\n",
       "      <td>-0.007495</td>\n",
       "    </tr>\n",
       "    <tr>\n",
       "      <th>CryoSleep</th>\n",
       "      <td>-0.014804</td>\n",
       "      <td>1.000000</td>\n",
       "      <td>0.010020</td>\n",
       "      <td>-0.002798</td>\n",
       "      <td>-0.018008</td>\n",
       "      <td>0.009436</td>\n",
       "      <td>-0.013004</td>\n",
       "      <td>-0.008055</td>\n",
       "      <td>0.013547</td>\n",
       "      <td>0.002218</td>\n",
       "      <td>0.011694</td>\n",
       "      <td>0.024627</td>\n",
       "      <td>0.003216</td>\n",
       "    </tr>\n",
       "    <tr>\n",
       "      <th>Cabin</th>\n",
       "      <td>0.007158</td>\n",
       "      <td>0.010020</td>\n",
       "      <td>1.000000</td>\n",
       "      <td>-0.000894</td>\n",
       "      <td>-0.000529</td>\n",
       "      <td>0.006891</td>\n",
       "      <td>-0.000773</td>\n",
       "      <td>0.004344</td>\n",
       "      <td>-0.013899</td>\n",
       "      <td>-0.011730</td>\n",
       "      <td>-0.001606</td>\n",
       "      <td>-0.013228</td>\n",
       "      <td>-0.009521</td>\n",
       "    </tr>\n",
       "    <tr>\n",
       "      <th>Destination</th>\n",
       "      <td>-0.001113</td>\n",
       "      <td>-0.002798</td>\n",
       "      <td>-0.000894</td>\n",
       "      <td>1.000000</td>\n",
       "      <td>-0.004230</td>\n",
       "      <td>-0.001331</td>\n",
       "      <td>-0.004443</td>\n",
       "      <td>0.012138</td>\n",
       "      <td>0.003392</td>\n",
       "      <td>-0.004653</td>\n",
       "      <td>-0.010694</td>\n",
       "      <td>-0.001004</td>\n",
       "      <td>-0.000027</td>\n",
       "    </tr>\n",
       "    <tr>\n",
       "      <th>Age</th>\n",
       "      <td>-0.011528</td>\n",
       "      <td>-0.018008</td>\n",
       "      <td>-0.000529</td>\n",
       "      <td>-0.004230</td>\n",
       "      <td>1.000000</td>\n",
       "      <td>0.009762</td>\n",
       "      <td>-0.015471</td>\n",
       "      <td>0.001308</td>\n",
       "      <td>-0.001500</td>\n",
       "      <td>-0.015620</td>\n",
       "      <td>0.000717</td>\n",
       "      <td>-0.006042</td>\n",
       "      <td>-0.012440</td>\n",
       "    </tr>\n",
       "    <tr>\n",
       "      <th>VIP</th>\n",
       "      <td>-0.008585</td>\n",
       "      <td>0.009436</td>\n",
       "      <td>0.006891</td>\n",
       "      <td>-0.001331</td>\n",
       "      <td>0.009762</td>\n",
       "      <td>1.000000</td>\n",
       "      <td>-0.001210</td>\n",
       "      <td>-0.001451</td>\n",
       "      <td>-0.004273</td>\n",
       "      <td>-0.012063</td>\n",
       "      <td>-0.017753</td>\n",
       "      <td>-0.018648</td>\n",
       "      <td>-0.015451</td>\n",
       "    </tr>\n",
       "    <tr>\n",
       "      <th>RoomService</th>\n",
       "      <td>0.009729</td>\n",
       "      <td>-0.013004</td>\n",
       "      <td>-0.000773</td>\n",
       "      <td>-0.004443</td>\n",
       "      <td>-0.015471</td>\n",
       "      <td>-0.001210</td>\n",
       "      <td>1.000000</td>\n",
       "      <td>-0.010160</td>\n",
       "      <td>-0.001744</td>\n",
       "      <td>-0.004548</td>\n",
       "      <td>-0.010603</td>\n",
       "      <td>-0.017004</td>\n",
       "      <td>0.426982</td>\n",
       "    </tr>\n",
       "    <tr>\n",
       "      <th>FoodCourt</th>\n",
       "      <td>-0.011897</td>\n",
       "      <td>-0.008055</td>\n",
       "      <td>0.004344</td>\n",
       "      <td>0.012138</td>\n",
       "      <td>0.001308</td>\n",
       "      <td>-0.001451</td>\n",
       "      <td>-0.010160</td>\n",
       "      <td>1.000000</td>\n",
       "      <td>-0.012473</td>\n",
       "      <td>0.006406</td>\n",
       "      <td>0.011251</td>\n",
       "      <td>0.004221</td>\n",
       "      <td>0.429385</td>\n",
       "    </tr>\n",
       "    <tr>\n",
       "      <th>ShoppingMall</th>\n",
       "      <td>0.010972</td>\n",
       "      <td>0.013547</td>\n",
       "      <td>-0.013899</td>\n",
       "      <td>0.003392</td>\n",
       "      <td>-0.001500</td>\n",
       "      <td>-0.004273</td>\n",
       "      <td>-0.001744</td>\n",
       "      <td>-0.012473</td>\n",
       "      <td>1.000000</td>\n",
       "      <td>-0.012473</td>\n",
       "      <td>0.007771</td>\n",
       "      <td>-0.003944</td>\n",
       "      <td>0.458450</td>\n",
       "    </tr>\n",
       "    <tr>\n",
       "      <th>Spa</th>\n",
       "      <td>-0.006565</td>\n",
       "      <td>0.002218</td>\n",
       "      <td>-0.011730</td>\n",
       "      <td>-0.004653</td>\n",
       "      <td>-0.015620</td>\n",
       "      <td>-0.012063</td>\n",
       "      <td>-0.004548</td>\n",
       "      <td>0.006406</td>\n",
       "      <td>-0.012473</td>\n",
       "      <td>1.000000</td>\n",
       "      <td>-0.005276</td>\n",
       "      <td>0.009566</td>\n",
       "      <td>0.429385</td>\n",
       "    </tr>\n",
       "    <tr>\n",
       "      <th>VRDeck</th>\n",
       "      <td>-0.017612</td>\n",
       "      <td>0.011694</td>\n",
       "      <td>-0.001606</td>\n",
       "      <td>-0.010694</td>\n",
       "      <td>0.000717</td>\n",
       "      <td>-0.017753</td>\n",
       "      <td>-0.010603</td>\n",
       "      <td>0.011251</td>\n",
       "      <td>0.007771</td>\n",
       "      <td>-0.005276</td>\n",
       "      <td>1.000000</td>\n",
       "      <td>-0.001716</td>\n",
       "      <td>0.435340</td>\n",
       "    </tr>\n",
       "    <tr>\n",
       "      <th>Name</th>\n",
       "      <td>0.012128</td>\n",
       "      <td>0.024627</td>\n",
       "      <td>-0.013228</td>\n",
       "      <td>-0.001004</td>\n",
       "      <td>-0.006042</td>\n",
       "      <td>-0.018648</td>\n",
       "      <td>-0.017004</td>\n",
       "      <td>0.004221</td>\n",
       "      <td>-0.003944</td>\n",
       "      <td>0.009566</td>\n",
       "      <td>-0.001716</td>\n",
       "      <td>1.000000</td>\n",
       "      <td>-0.002234</td>\n",
       "    </tr>\n",
       "    <tr>\n",
       "      <th>Total_exp</th>\n",
       "      <td>-0.007495</td>\n",
       "      <td>0.003216</td>\n",
       "      <td>-0.009521</td>\n",
       "      <td>-0.000027</td>\n",
       "      <td>-0.012440</td>\n",
       "      <td>-0.015451</td>\n",
       "      <td>0.426982</td>\n",
       "      <td>0.429385</td>\n",
       "      <td>0.458450</td>\n",
       "      <td>0.429385</td>\n",
       "      <td>0.435340</td>\n",
       "      <td>-0.002234</td>\n",
       "      <td>1.000000</td>\n",
       "    </tr>\n",
       "  </tbody>\n",
       "</table>\n",
       "</div>"
      ],
      "text/plain": [
       "              HomePlanet  CryoSleep     Cabin  Destination       Age  \\\n",
       "HomePlanet      1.000000  -0.014804  0.007158    -0.001113 -0.011528   \n",
       "CryoSleep      -0.014804   1.000000  0.010020    -0.002798 -0.018008   \n",
       "Cabin           0.007158   0.010020  1.000000    -0.000894 -0.000529   \n",
       "Destination    -0.001113  -0.002798 -0.000894     1.000000 -0.004230   \n",
       "Age            -0.011528  -0.018008 -0.000529    -0.004230  1.000000   \n",
       "VIP            -0.008585   0.009436  0.006891    -0.001331  0.009762   \n",
       "RoomService     0.009729  -0.013004 -0.000773    -0.004443 -0.015471   \n",
       "FoodCourt      -0.011897  -0.008055  0.004344     0.012138  0.001308   \n",
       "ShoppingMall    0.010972   0.013547 -0.013899     0.003392 -0.001500   \n",
       "Spa            -0.006565   0.002218 -0.011730    -0.004653 -0.015620   \n",
       "VRDeck         -0.017612   0.011694 -0.001606    -0.010694  0.000717   \n",
       "Name            0.012128   0.024627 -0.013228    -0.001004 -0.006042   \n",
       "Total_exp      -0.007495   0.003216 -0.009521    -0.000027 -0.012440   \n",
       "\n",
       "                   VIP  RoomService  FoodCourt  ShoppingMall       Spa  \\\n",
       "HomePlanet   -0.008585     0.009729  -0.011897      0.010972 -0.006565   \n",
       "CryoSleep     0.009436    -0.013004  -0.008055      0.013547  0.002218   \n",
       "Cabin         0.006891    -0.000773   0.004344     -0.013899 -0.011730   \n",
       "Destination  -0.001331    -0.004443   0.012138      0.003392 -0.004653   \n",
       "Age           0.009762    -0.015471   0.001308     -0.001500 -0.015620   \n",
       "VIP           1.000000    -0.001210  -0.001451     -0.004273 -0.012063   \n",
       "RoomService  -0.001210     1.000000  -0.010160     -0.001744 -0.004548   \n",
       "FoodCourt    -0.001451    -0.010160   1.000000     -0.012473  0.006406   \n",
       "ShoppingMall -0.004273    -0.001744  -0.012473      1.000000 -0.012473   \n",
       "Spa          -0.012063    -0.004548   0.006406     -0.012473  1.000000   \n",
       "VRDeck       -0.017753    -0.010603   0.011251      0.007771 -0.005276   \n",
       "Name         -0.018648    -0.017004   0.004221     -0.003944  0.009566   \n",
       "Total_exp    -0.015451     0.426982   0.429385      0.458450  0.429385   \n",
       "\n",
       "                VRDeck      Name  Total_exp  \n",
       "HomePlanet   -0.017612  0.012128  -0.007495  \n",
       "CryoSleep     0.011694  0.024627   0.003216  \n",
       "Cabin        -0.001606 -0.013228  -0.009521  \n",
       "Destination  -0.010694 -0.001004  -0.000027  \n",
       "Age           0.000717 -0.006042  -0.012440  \n",
       "VIP          -0.017753 -0.018648  -0.015451  \n",
       "RoomService  -0.010603 -0.017004   0.426982  \n",
       "FoodCourt     0.011251  0.004221   0.429385  \n",
       "ShoppingMall  0.007771 -0.003944   0.458450  \n",
       "Spa          -0.005276  0.009566   0.429385  \n",
       "VRDeck        1.000000 -0.001716   0.435340  \n",
       "Name         -0.001716  1.000000  -0.002234  \n",
       "Total_exp     0.435340 -0.002234   1.000000  "
      ]
     },
     "execution_count": 82,
     "metadata": {},
     "output_type": "execute_result"
    }
   ],
   "source": [
    "nan_corr.isna().corr()"
   ]
  },
  {
   "cell_type": "code",
   "execution_count": 83,
   "id": "4ad1d86d",
   "metadata": {},
   "outputs": [
    {
     "data": {
      "text/html": [
       "<div>\n",
       "<style scoped>\n",
       "    .dataframe tbody tr th:only-of-type {\n",
       "        vertical-align: middle;\n",
       "    }\n",
       "\n",
       "    .dataframe tbody tr th {\n",
       "        vertical-align: top;\n",
       "    }\n",
       "\n",
       "    .dataframe thead th {\n",
       "        text-align: right;\n",
       "    }\n",
       "</style>\n",
       "<table border=\"1\" class=\"dataframe\">\n",
       "  <thead>\n",
       "    <tr style=\"text-align: right;\">\n",
       "      <th></th>\n",
       "      <th>HomePlanet</th>\n",
       "      <th>CryoSleep</th>\n",
       "      <th>Cabin</th>\n",
       "      <th>Destination</th>\n",
       "      <th>Age</th>\n",
       "      <th>VIP</th>\n",
       "      <th>RoomService</th>\n",
       "      <th>FoodCourt</th>\n",
       "      <th>ShoppingMall</th>\n",
       "      <th>Spa</th>\n",
       "      <th>VRDeck</th>\n",
       "      <th>Name</th>\n",
       "      <th>Total_exp</th>\n",
       "    </tr>\n",
       "  </thead>\n",
       "  <tbody>\n",
       "    <tr>\n",
       "      <th>7</th>\n",
       "      <td>Earth</td>\n",
       "      <td>True</td>\n",
       "      <td>G/0/S</td>\n",
       "      <td>TRAPPIST-1e</td>\n",
       "      <td>28.0</td>\n",
       "      <td>False</td>\n",
       "      <td>0.0</td>\n",
       "      <td>0.0</td>\n",
       "      <td>0.0</td>\n",
       "      <td>0.0</td>\n",
       "      <td>NaN</td>\n",
       "      <td>Candra Jacostaffey</td>\n",
       "      <td>NaN</td>\n",
       "    </tr>\n",
       "    <tr>\n",
       "      <th>10</th>\n",
       "      <td>Europa</td>\n",
       "      <td>True</td>\n",
       "      <td>B/1/P</td>\n",
       "      <td>TRAPPIST-1e</td>\n",
       "      <td>34.0</td>\n",
       "      <td>False</td>\n",
       "      <td>0.0</td>\n",
       "      <td>0.0</td>\n",
       "      <td>NaN</td>\n",
       "      <td>0.0</td>\n",
       "      <td>0.0</td>\n",
       "      <td>Altardr Flatic</td>\n",
       "      <td>NaN</td>\n",
       "    </tr>\n",
       "    <tr>\n",
       "      <th>15</th>\n",
       "      <td>Earth</td>\n",
       "      <td>False</td>\n",
       "      <td>NaN</td>\n",
       "      <td>TRAPPIST-1e</td>\n",
       "      <td>31.0</td>\n",
       "      <td>False</td>\n",
       "      <td>32.0</td>\n",
       "      <td>0.0</td>\n",
       "      <td>876.0</td>\n",
       "      <td>0.0</td>\n",
       "      <td>0.0</td>\n",
       "      <td>Justie Pooles</td>\n",
       "      <td>908.0</td>\n",
       "    </tr>\n",
       "    <tr>\n",
       "      <th>16</th>\n",
       "      <td>Mars</td>\n",
       "      <td>False</td>\n",
       "      <td>F/3/P</td>\n",
       "      <td>55 Cancri e</td>\n",
       "      <td>27.0</td>\n",
       "      <td>False</td>\n",
       "      <td>1286.0</td>\n",
       "      <td>122.0</td>\n",
       "      <td>NaN</td>\n",
       "      <td>0.0</td>\n",
       "      <td>0.0</td>\n",
       "      <td>Flats Eccle</td>\n",
       "      <td>NaN</td>\n",
       "    </tr>\n",
       "    <tr>\n",
       "      <th>23</th>\n",
       "      <td>Earth</td>\n",
       "      <td>True</td>\n",
       "      <td>E/0/S</td>\n",
       "      <td>55 Cancri e</td>\n",
       "      <td>29.0</td>\n",
       "      <td>False</td>\n",
       "      <td>0.0</td>\n",
       "      <td>0.0</td>\n",
       "      <td>NaN</td>\n",
       "      <td>0.0</td>\n",
       "      <td>0.0</td>\n",
       "      <td>Mollen Mcfaddennon</td>\n",
       "      <td>NaN</td>\n",
       "    </tr>\n",
       "    <tr>\n",
       "      <th>...</th>\n",
       "      <td>...</td>\n",
       "      <td>...</td>\n",
       "      <td>...</td>\n",
       "      <td>...</td>\n",
       "      <td>...</td>\n",
       "      <td>...</td>\n",
       "      <td>...</td>\n",
       "      <td>...</td>\n",
       "      <td>...</td>\n",
       "      <td>...</td>\n",
       "      <td>...</td>\n",
       "      <td>...</td>\n",
       "      <td>...</td>\n",
       "    </tr>\n",
       "    <tr>\n",
       "      <th>8667</th>\n",
       "      <td>Europa</td>\n",
       "      <td>False</td>\n",
       "      <td>E/597/P</td>\n",
       "      <td>TRAPPIST-1e</td>\n",
       "      <td>29.0</td>\n",
       "      <td>False</td>\n",
       "      <td>0.0</td>\n",
       "      <td>2972.0</td>\n",
       "      <td>NaN</td>\n",
       "      <td>28.0</td>\n",
       "      <td>188.0</td>\n",
       "      <td>Chain Reedectied</td>\n",
       "      <td>NaN</td>\n",
       "    </tr>\n",
       "    <tr>\n",
       "      <th>8674</th>\n",
       "      <td>NaN</td>\n",
       "      <td>False</td>\n",
       "      <td>F/1892/P</td>\n",
       "      <td>TRAPPIST-1e</td>\n",
       "      <td>13.0</td>\n",
       "      <td>False</td>\n",
       "      <td>39.0</td>\n",
       "      <td>0.0</td>\n",
       "      <td>1085.0</td>\n",
       "      <td>24.0</td>\n",
       "      <td>0.0</td>\n",
       "      <td>Ties Apple</td>\n",
       "      <td>1148.0</td>\n",
       "    </tr>\n",
       "    <tr>\n",
       "      <th>8675</th>\n",
       "      <td>Earth</td>\n",
       "      <td>NaN</td>\n",
       "      <td>F/1893/P</td>\n",
       "      <td>TRAPPIST-1e</td>\n",
       "      <td>44.0</td>\n",
       "      <td>False</td>\n",
       "      <td>1030.0</td>\n",
       "      <td>1015.0</td>\n",
       "      <td>0.0</td>\n",
       "      <td>11.0</td>\n",
       "      <td>NaN</td>\n",
       "      <td>Annah Gilleyons</td>\n",
       "      <td>NaN</td>\n",
       "    </tr>\n",
       "    <tr>\n",
       "      <th>8684</th>\n",
       "      <td>NaN</td>\n",
       "      <td>True</td>\n",
       "      <td>G/1508/P</td>\n",
       "      <td>TRAPPIST-1e</td>\n",
       "      <td>23.0</td>\n",
       "      <td>False</td>\n",
       "      <td>0.0</td>\n",
       "      <td>0.0</td>\n",
       "      <td>0.0</td>\n",
       "      <td>0.0</td>\n",
       "      <td>0.0</td>\n",
       "      <td>Chelsa Bullisey</td>\n",
       "      <td>0.0</td>\n",
       "    </tr>\n",
       "    <tr>\n",
       "      <th>8687</th>\n",
       "      <td>Europa</td>\n",
       "      <td>NaN</td>\n",
       "      <td>A/97/P</td>\n",
       "      <td>TRAPPIST-1e</td>\n",
       "      <td>30.0</td>\n",
       "      <td>False</td>\n",
       "      <td>0.0</td>\n",
       "      <td>3208.0</td>\n",
       "      <td>0.0</td>\n",
       "      <td>2.0</td>\n",
       "      <td>330.0</td>\n",
       "      <td>Atlasym Conable</td>\n",
       "      <td>3540.0</td>\n",
       "    </tr>\n",
       "  </tbody>\n",
       "</table>\n",
       "<p>2087 rows × 13 columns</p>\n",
       "</div>"
      ],
      "text/plain": [
       "     HomePlanet CryoSleep     Cabin  Destination   Age    VIP  RoomService  \\\n",
       "7         Earth      True     G/0/S  TRAPPIST-1e  28.0  False          0.0   \n",
       "10       Europa      True     B/1/P  TRAPPIST-1e  34.0  False          0.0   \n",
       "15        Earth     False       NaN  TRAPPIST-1e  31.0  False         32.0   \n",
       "16         Mars     False     F/3/P  55 Cancri e  27.0  False       1286.0   \n",
       "23        Earth      True     E/0/S  55 Cancri e  29.0  False          0.0   \n",
       "...         ...       ...       ...          ...   ...    ...          ...   \n",
       "8667     Europa     False   E/597/P  TRAPPIST-1e  29.0  False          0.0   \n",
       "8674        NaN     False  F/1892/P  TRAPPIST-1e  13.0  False         39.0   \n",
       "8675      Earth       NaN  F/1893/P  TRAPPIST-1e  44.0  False       1030.0   \n",
       "8684        NaN      True  G/1508/P  TRAPPIST-1e  23.0  False          0.0   \n",
       "8687     Europa       NaN    A/97/P  TRAPPIST-1e  30.0  False          0.0   \n",
       "\n",
       "      FoodCourt  ShoppingMall   Spa  VRDeck                Name  Total_exp  \n",
       "7           0.0           0.0   0.0     NaN  Candra Jacostaffey        NaN  \n",
       "10          0.0           NaN   0.0     0.0      Altardr Flatic        NaN  \n",
       "15          0.0         876.0   0.0     0.0       Justie Pooles      908.0  \n",
       "16        122.0           NaN   0.0     0.0         Flats Eccle        NaN  \n",
       "23          0.0           NaN   0.0     0.0  Mollen Mcfaddennon        NaN  \n",
       "...         ...           ...   ...     ...                 ...        ...  \n",
       "8667     2972.0           NaN  28.0   188.0    Chain Reedectied        NaN  \n",
       "8674        0.0        1085.0  24.0     0.0          Ties Apple     1148.0  \n",
       "8675     1015.0           0.0  11.0     NaN     Annah Gilleyons        NaN  \n",
       "8684        0.0           0.0   0.0     0.0     Chelsa Bullisey        0.0  \n",
       "8687     3208.0           0.0   2.0   330.0     Atlasym Conable     3540.0  \n",
       "\n",
       "[2087 rows x 13 columns]"
      ]
     },
     "execution_count": 83,
     "metadata": {},
     "output_type": "execute_result"
    }
   ],
   "source": [
    "nan_corr[nan_corr.isna().any(1)]"
   ]
  },
  {
   "cell_type": "code",
   "execution_count": 53,
   "id": "5cf6fe15",
   "metadata": {
    "scrolled": false
   },
   "outputs": [
    {
     "data": {
      "text/plain": [
       "<AxesSubplot:>"
      ]
     },
     "execution_count": 53,
     "metadata": {},
     "output_type": "execute_result"
    },
    {
     "data": {
      "image/png": "[encoded data removed]",
      "text/plain": [
       "<Figure size 1440x864 with 2 Axes>"
      ]
     },
     "metadata": {
      "needs_background": "light"
     },
     "output_type": "display_data"
    }
   ],
   "source": [
    "# Now look at NaNs in total_expenses instead of every one on their own (higher chance of seeing correlation):\n",
    "nan_corr = train.drop([\"PassengerId\", \"Transported\"], axis=1)\n",
    "nan_corr[\"Total_exp\"] = train.iloc[:, [7,8,9,10,11]].sum(axis=1, skipna=False)\n",
    "\n",
    "# Let's look at NaN-position-correlations:\n",
    "# -1: If missing in this col, definetly not missing in other col\n",
    "#  0: Absence of value has no correlation\n",
    "#  1: If NaN in one column then definetly NaN in other column too \n",
    "msno.heatmap(nan_corr.drop(['RoomService', 'FoodCourt', 'ShoppingMall', 'Spa', 'VRDeck'], axis=1))\n",
    "\n",
    "# Interesting fact:\n",
    "# The method just uses the correlation you can get with train.isna().corr()\n",
    "# sns.heatmap(train.drop([\"PassengerId\", \"Transported\"], axis=1).isnull().corr(), vmin=-1, vmax=1, cmap=\"YlGnBu\")"
   ]
  },
  {
   "cell_type": "code",
   "execution_count": 107,
   "id": "d851fbfd",
   "metadata": {},
   "outputs": [
    {
     "name": "stdout",
     "output_type": "stream",
     "text": [
      "One    0.009709\n",
      "Two    0.019227\n",
      "dtype: float64\n",
      "          One       Two\n",
      "One  0.009709 -0.000190\n",
      "Two -0.000190  0.019227\n"
     ]
    },
    {
     "data": {
      "text/html": [
       "<div>\n",
       "<style scoped>\n",
       "    .dataframe tbody tr th:only-of-type {\n",
       "        vertical-align: middle;\n",
       "    }\n",
       "\n",
       "    .dataframe tbody tr th {\n",
       "        vertical-align: top;\n",
       "    }\n",
       "\n",
       "    .dataframe thead th {\n",
       "        text-align: right;\n",
       "    }\n",
       "</style>\n",
       "<table border=\"1\" class=\"dataframe\">\n",
       "  <thead>\n",
       "    <tr style=\"text-align: right;\">\n",
       "      <th></th>\n",
       "      <th>One</th>\n",
       "      <th>Two</th>\n",
       "    </tr>\n",
       "  </thead>\n",
       "  <tbody>\n",
       "    <tr>\n",
       "      <th>One</th>\n",
       "      <td>1.000000</td>\n",
       "      <td>-0.013933</td>\n",
       "    </tr>\n",
       "    <tr>\n",
       "      <th>Two</th>\n",
       "      <td>-0.013933</td>\n",
       "      <td>1.000000</td>\n",
       "    </tr>\n",
       "  </tbody>\n",
       "</table>\n",
       "</div>"
      ],
      "text/plain": [
       "          One       Two\n",
       "One  1.000000 -0.013933\n",
       "Two -0.013933  1.000000"
      ]
     },
     "execution_count": 107,
     "metadata": {},
     "output_type": "execute_result"
    }
   ],
   "source": [
    "# Further interesting: The correlation coefficent is only very little influenced by more values \n",
    "# (so 1 different, 10 same similar to 1 different 1000 same)\n",
    "\n",
    "n = 100\n",
    "a = pd.DataFrame({\"One\":[False, True, True] + n*[True],\n",
    "                 \"Two\":[True, False, False] + n*[True]})\n",
    "print(a.var())\n",
    "print(a.cov())\n",
    "a.corr()"
   ]
  },
  {
   "cell_type": "code",
   "execution_count": 108,
   "id": "251d19f6",
   "metadata": {},
   "outputs": [
    {
     "name": "stdout",
     "output_type": "stream",
     "text": [
      "One    0.252427\n",
      "Two    0.252427\n",
      "dtype: float64\n",
      "          One       Two\n",
      "One  0.252427  0.237769\n",
      "Two  0.237769  0.252427\n"
     ]
    },
    {
     "data": {
      "text/html": [
       "<div>\n",
       "<style scoped>\n",
       "    .dataframe tbody tr th:only-of-type {\n",
       "        vertical-align: middle;\n",
       "    }\n",
       "\n",
       "    .dataframe tbody tr th {\n",
       "        vertical-align: top;\n",
       "    }\n",
       "\n",
       "    .dataframe thead th {\n",
       "        text-align: right;\n",
       "    }\n",
       "</style>\n",
       "<table border=\"1\" class=\"dataframe\">\n",
       "  <thead>\n",
       "    <tr style=\"text-align: right;\">\n",
       "      <th></th>\n",
       "      <th>One</th>\n",
       "      <th>Two</th>\n",
       "    </tr>\n",
       "  </thead>\n",
       "  <tbody>\n",
       "    <tr>\n",
       "      <th>One</th>\n",
       "      <td>1.000000</td>\n",
       "      <td>0.941931</td>\n",
       "    </tr>\n",
       "    <tr>\n",
       "      <th>Two</th>\n",
       "      <td>0.941931</td>\n",
       "      <td>1.000000</td>\n",
       "    </tr>\n",
       "  </tbody>\n",
       "</table>\n",
       "</div>"
      ],
      "text/plain": [
       "          One       Two\n",
       "One  1.000000  0.941931\n",
       "Two  0.941931  1.000000"
      ]
     },
     "execution_count": 108,
     "metadata": {},
     "output_type": "execute_result"
    }
   ],
   "source": [
    "# Here: We have higher variance for each of the features -> this increases the covariance\n",
    "\n",
    "n = 50\n",
    "a = pd.DataFrame({\"One\":[False, True, True] + n*[True] + n*[False],\n",
    "                 \"Two\":[True, False, False] + n*[True] + n*[False]})\n",
    "print(a.var())\n",
    "print(a.cov())\n",
    "a.corr()"
   ]
  },
  {
   "cell_type": "code",
   "execution_count": 134,
   "id": "8888de84",
   "metadata": {},
   "outputs": [
    {
     "name": "stdout",
     "output_type": "stream",
     "text": [
      "HomePlanet     0.022590\n",
      "CryoSleep      0.024342\n",
      "Cabin          0.022371\n",
      "Destination    0.020500\n",
      "Age            0.020170\n",
      "VIP            0.022809\n",
      "Name           0.022480\n",
      "Total_exp      0.093552\n",
      "dtype: float64\n",
      "HomePlanet     0.087077\n",
      "CryoSleep      0.093210\n",
      "Cabin          0.086301\n",
      "Destination    0.079640\n",
      "Age            0.078450\n",
      "VIP            0.087850\n",
      "Name           0.086689\n",
      "Total_exp      0.245902\n",
      "dtype: float64\n"
     ]
    },
    {
     "data": {
      "text/plain": [
       "<AxesSubplot:>"
      ]
     },
     "execution_count": 134,
     "metadata": {},
     "output_type": "execute_result"
    },
    {
     "data": {
      "image/png": "[encoded data removed]",
      "text/plain": [
       "<Figure size 1440x864 with 2 Axes>"
      ]
     },
     "metadata": {
      "needs_background": "light"
     },
     "output_type": "display_data"
    }
   ],
   "source": [
    "# So in this case where correlations are very low, it can make sense to exclude the rows with full data (so no NaNs)\n",
    "# from the analysis, since they will decrease the variance (75% are full rows):\n",
    "nan_corr = nan_corr.drop(['RoomService', 'FoodCourt', 'ShoppingMall', 'Spa', 'VRDeck'], axis=1)\n",
    "print(nan_corr.isna().var())\n",
    "print(nan_corr[nan_corr.isna().any(1)].isna().var())\n",
    "\n",
    "# This will not change anything regarding the relation of the correlations, just the magnitude is higher and \n",
    "# small realtions more obvious. Still only very little correlations\n",
    "msno.heatmap(nan_corr[nan_corr.isna().any(1)])"
   ]
  },
  {
   "cell_type": "markdown",
   "id": "c5618ad3",
   "metadata": {},
   "source": [
    "**Findings of NaN-analysis:**\n",
    "- PassengerId and Transported (target variable) have no missing values\n",
    "- in general rows all have >= 11 values so <= 3 missing values in total, for the most part so deletion of rows does not make any sense\n",
    "- there is no strong correlation between the occurence of missing values in different columns (so no systematic behind the distribution of missing values"
   ]
  },
  {
   "cell_type": "markdown",
   "id": "b35374a5",
   "metadata": {},
   "source": [
    "### 2.3 Analyze each column and its influence on the target variable"
   ]
  },
  {
   "cell_type": "markdown",
   "id": "48d234bc",
   "metadata": {},
   "source": [
    "#### 2.3.1 PassengerID "
   ]
  },
  {
   "cell_type": "code",
   "execution_count": 14,
   "id": "9772a588",
   "metadata": {},
   "outputs": [
    {
     "name": "stdout",
     "output_type": "stream",
     "text": [
      "The train dataset contains 8693 records of passengers.\n"
     ]
    }
   ],
   "source": [
    "print(f\"The train dataset contains {len(train)} records of passengers.\")"
   ]
  },
  {
   "cell_type": "code",
   "execution_count": 15,
   "id": "63fed0e7",
   "metadata": {},
   "outputs": [
    {
     "data": {
      "text/plain": [
       "1"
      ]
     },
     "execution_count": 15,
     "metadata": {},
     "output_type": "execute_result"
    }
   ],
   "source": [
    "train.PassengerId.value_counts().max()\n",
    "\n",
    "# Every PassengerID is unique"
   ]
  },
  {
   "cell_type": "code",
   "execution_count": 16,
   "id": "6a00d118",
   "metadata": {},
   "outputs": [
    {
     "data": {
      "text/plain": [
       "0       0001_01\n",
       "1       0002_01\n",
       "2       0003_01\n",
       "3       0003_02\n",
       "4       0004_01\n",
       "         ...   \n",
       "8688    9276_01\n",
       "8689    9278_01\n",
       "8690    9279_01\n",
       "8691    9280_01\n",
       "8692    9280_02\n",
       "Name: PassengerId, Length: 8693, dtype: object"
      ]
     },
     "execution_count": 16,
     "metadata": {},
     "output_type": "execute_result"
    }
   ],
   "source": [
    "train.PassengerId"
   ]
  },
  {
   "cell_type": "markdown",
   "id": "b2c0d191",
   "metadata": {},
   "source": [
    "**Findings:** \n",
    "- Since there are 8693 passengers, and the ID starts from 1 and increases the count, some numbers have been skipped. Why? TO DO!\n",
    "- What is the meaning of \"_01\" and \"_02\" in the end of the ID? Possible new feature? TO DO!"
   ]
  },
  {
   "cell_type": "markdown",
   "id": "05461c47",
   "metadata": {},
   "source": [
    "**Analyze the first part of number**"
   ]
  },
  {
   "cell_type": "code",
   "execution_count": 17,
   "id": "4537e4c4",
   "metadata": {},
   "outputs": [
    {
     "name": "stdout",
     "output_type": "stream",
     "text": [
      "   n_occ  index\n",
      "0      1   4805\n",
      "1      2    841\n",
      "2      3    340\n",
      "3      4    103\n",
      "4      5     53\n",
      "5      6     29\n",
      "6      7     33\n",
      "7      8     13\n"
     ]
    },
    {
     "data": {
      "text/plain": [
       "<AxesSubplot:xlabel='n_occ'>"
      ]
     },
     "execution_count": 17,
     "metadata": {},
     "output_type": "execute_result"
    },
    {
     "data": {
      "image/png": "[encoded data removed]",
      "text/plain": [
       "<Figure size 432x288 with 1 Axes>"
      ]
     },
     "metadata": {
      "needs_background": "light"
     },
     "output_type": "display_data"
    }
   ],
   "source": [
    "num_how_often = train.PassengerId.str.split(\"_\", expand=True)[0].value_counts()\n",
    "\n",
    "num_how_often = num_how_often.to_frame(name=\"n_occ\").reset_index(level=0).groupby(\"n_occ\").count().reset_index(level=0)\n",
    "\n",
    "print(num_how_often)\n",
    "\n",
    "num_how_often[(num_how_often.n_occ > 1)].plot(x=\"n_occ\", y=\"index\", kind=\"bar\", legend=True)"
   ]
  },
  {
   "cell_type": "markdown",
   "id": "7f370ccf",
   "metadata": {},
   "source": [
    "**Analyze the second part of number**"
   ]
  },
  {
   "cell_type": "code",
   "execution_count": 18,
   "id": "6144d007",
   "metadata": {},
   "outputs": [
    {
     "data": {
      "text/plain": [
       "01    6217\n",
       "02    1412\n",
       "03     571\n",
       "04     231\n",
       "05     128\n",
       "06      75\n",
       "07      46\n",
       "08      13\n",
       "Name: 1, dtype: int64"
      ]
     },
     "execution_count": 18,
     "metadata": {},
     "output_type": "execute_result"
    }
   ],
   "source": [
    "train.PassengerId.str.split(\"_\", expand=True)[1].value_counts()"
   ]
  },
  {
   "cell_type": "code",
   "execution_count": 19,
   "id": "56c06ca5",
   "metadata": {},
   "outputs": [
    {
     "data": {
      "text/plain": [
       "<AxesSubplot:xlabel='Ending number PassengerId'>"
      ]
     },
     "execution_count": 19,
     "metadata": {},
     "output_type": "execute_result"
    },
    {
     "data": {
      "image/png": "[encoded data removed]",
      "text/plain": [
       "<Figure size 432x288 with 1 Axes>"
      ]
     },
     "metadata": {
      "needs_background": "light"
     },
     "output_type": "display_data"
    }
   ],
   "source": [
    "# Since it only consits of numbers from 1 to 8, we will transform this to a numeric or categorical new feature\n",
    "# Maybe related to VIP status or special tickets?\n",
    "\n",
    "# Check ratio of Transported/Not Transported for each ending number\n",
    "end_num_trans = pd.concat([train.PassengerId.str.split(\"_\", expand=True)[1], train.Transported], axis=1) \\\n",
    "                    .groupby(1) \\\n",
    "                    .value_counts(\"Transported\") \\\n",
    "                    .reset_index() \\\n",
    "                    .pivot_table(index=1, columns=\"Transported\", values=0) \\\n",
    "                    .transpose() \n",
    "\n",
    "end_num_trans.plot(kind=\"bar\", xlabel=\"Ending number PassengerId\")\n",
    "\n",
    "# Only slight tendencies"
   ]
  },
  {
   "cell_type": "markdown",
   "id": "364eafa9",
   "metadata": {},
   "source": [
    "**Decide on preprocessing of variable**"
   ]
  },
  {
   "cell_type": "code",
   "execution_count": 20,
   "id": "3c458d83",
   "metadata": {},
   "outputs": [
    {
     "data": {
      "text/html": [
       "<div>\n",
       "<style scoped>\n",
       "    .dataframe tbody tr th:only-of-type {\n",
       "        vertical-align: middle;\n",
       "    }\n",
       "\n",
       "    .dataframe tbody tr th {\n",
       "        vertical-align: top;\n",
       "    }\n",
       "\n",
       "    .dataframe thead th {\n",
       "        text-align: right;\n",
       "    }\n",
       "</style>\n",
       "<table border=\"1\" class=\"dataframe\">\n",
       "  <thead>\n",
       "    <tr style=\"text-align: right;\">\n",
       "      <th></th>\n",
       "      <th>PassID_B</th>\n",
       "      <th>PassID_E</th>\n",
       "    </tr>\n",
       "  </thead>\n",
       "  <tbody>\n",
       "    <tr>\n",
       "      <th>0</th>\n",
       "      <td>0001</td>\n",
       "      <td>1</td>\n",
       "    </tr>\n",
       "    <tr>\n",
       "      <th>1</th>\n",
       "      <td>0002</td>\n",
       "      <td>1</td>\n",
       "    </tr>\n",
       "    <tr>\n",
       "      <th>2</th>\n",
       "      <td>0003</td>\n",
       "      <td>1</td>\n",
       "    </tr>\n",
       "    <tr>\n",
       "      <th>3</th>\n",
       "      <td>0003</td>\n",
       "      <td>2</td>\n",
       "    </tr>\n",
       "    <tr>\n",
       "      <th>4</th>\n",
       "      <td>0004</td>\n",
       "      <td>1</td>\n",
       "    </tr>\n",
       "  </tbody>\n",
       "</table>\n",
       "</div>"
      ],
      "text/plain": [
       "  PassID_B PassID_E\n",
       "0     0001        1\n",
       "1     0002        1\n",
       "2     0003        1\n",
       "3     0003        2\n",
       "4     0004        1"
      ]
     },
     "execution_count": 20,
     "metadata": {},
     "output_type": "execute_result"
    }
   ],
   "source": [
    "def preprocess_PassengerId(data):\n",
    "    # Just return splitted column\n",
    "    new_ID = data.PassengerId.str.split(\"_\", expand=True)\n",
    "    new_ID.columns = [\"PassID_B\", \"PassID_E\"]\n",
    "    new_ID.PassID_E = new_ID.PassID_E.str[1]\n",
    "    return new_ID\n",
    "\n",
    "preprocess_PassengerId(train).head()"
   ]
  },
  {
   "cell_type": "markdown",
   "id": "9653f531",
   "metadata": {},
   "source": [
    "#### 2.3.2 HomePlanet"
   ]
  },
  {
   "cell_type": "code",
   "execution_count": 21,
   "id": "a1cdf0c2",
   "metadata": {
    "scrolled": true
   },
   "outputs": [
    {
     "data": {
      "text/plain": [
       "<AxesSubplot:title={'center':'Distribution of HomePlanet'}>"
      ]
     },
     "execution_count": 21,
     "metadata": {},
     "output_type": "execute_result"
    },
    {
     "data": {
      "image/png": "[encoded data removed]",
      "text/plain": [
       "<Figure size 432x288 with 1 Axes>"
      ]
     },
     "metadata": {
      "needs_background": "light"
     },
     "output_type": "display_data"
    }
   ],
   "source": [
    "train.HomePlanet.value_counts(normalize=True).plot(kind=\"bar\", rot=0, title=\"Distribution of HomePlanet\")"
   ]
  },
  {
   "cell_type": "code",
   "execution_count": 22,
   "id": "c483fd01",
   "metadata": {},
   "outputs": [
    {
     "data": {
      "text/plain": [
       "<AxesSubplot:title={'center':'HomePlanet vs. Transported'}, xlabel='HomePlanet'>"
      ]
     },
     "execution_count": 22,
     "metadata": {},
     "output_type": "execute_result"
    },
    {
     "data": {
      "image/png": "[encoded data removed]",
      "text/plain": [
       "<Figure size 432x288 with 1 Axes>"
      ]
     },
     "metadata": {
      "needs_background": "light"
     },
     "output_type": "display_data"
    }
   ],
   "source": [
    "train[[\"HomePlanet\", \"Transported\"]].groupby(\"HomePlanet\").value_counts().unstack().plot(kind=\"bar\", \n",
    "                                                                                         rot=0, \n",
    "                                                                                         title=\"HomePlanet vs. Transported\")"
   ]
  },
  {
   "cell_type": "code",
   "execution_count": 23,
   "id": "5a8f8613",
   "metadata": {},
   "outputs": [
    {
     "data": {
      "text/plain": [
       "<AxesSubplot:title={'center':'HomePlanet vs. CryoSleep'}, xlabel='HomePlanet'>"
      ]
     },
     "execution_count": 23,
     "metadata": {},
     "output_type": "execute_result"
    },
    {
     "data": {
      "image/png": "[encoded data removed]",
      "text/plain": [
       "<Figure size 432x288 with 1 Axes>"
      ]
     },
     "metadata": {
      "needs_background": "light"
     },
     "output_type": "display_data"
    }
   ],
   "source": [
    "train[[\"HomePlanet\", \"CryoSleep\"]].groupby(\"HomePlanet\").value_counts().unstack().plot(kind=\"bar\", rot=0, title=\"HomePlanet vs. CryoSleep\")"
   ]
  },
  {
   "cell_type": "code",
   "execution_count": 24,
   "id": "23ef5f06",
   "metadata": {
    "scrolled": true
   },
   "outputs": [
    {
     "data": {
      "text/plain": [
       "<AxesSubplot:title={'center':'HomePlanet vs. CryoSleep'}, xlabel='HomePlanet'>"
      ]
     },
     "execution_count": 24,
     "metadata": {},
     "output_type": "execute_result"
    },
    {
     "data": {
      "image/png": "[encoded data removed]",
      "text/plain": [
       "<Figure size 432x288 with 1 Axes>"
      ]
     },
     "metadata": {
      "needs_background": "light"
     },
     "output_type": "display_data"
    }
   ],
   "source": [
    "train[[\"HomePlanet\", \"VIP\"]].groupby(\"HomePlanet\").value_counts().unstack().plot(kind=\"bar\", rot=0, title=\"HomePlanet vs. CryoSleep\")"
   ]
  },
  {
   "cell_type": "code",
   "execution_count": 25,
   "id": "d83de911",
   "metadata": {},
   "outputs": [
    {
     "data": {
      "text/html": [
       "<div>\n",
       "<style scoped>\n",
       "    .dataframe tbody tr th:only-of-type {\n",
       "        vertical-align: middle;\n",
       "    }\n",
       "\n",
       "    .dataframe tbody tr th {\n",
       "        vertical-align: top;\n",
       "    }\n",
       "\n",
       "    .dataframe thead th {\n",
       "        text-align: right;\n",
       "    }\n",
       "</style>\n",
       "<table border=\"1\" class=\"dataframe\">\n",
       "  <thead>\n",
       "    <tr style=\"text-align: right;\">\n",
       "      <th></th>\n",
       "      <th>HomePlanet</th>\n",
       "      <th>CryoSleep</th>\n",
       "      <th>RoomService</th>\n",
       "      <th>FoodCourt</th>\n",
       "      <th>ShoppingMall</th>\n",
       "      <th>Spa</th>\n",
       "      <th>VRDeck</th>\n",
       "    </tr>\n",
       "  </thead>\n",
       "  <tbody>\n",
       "    <tr>\n",
       "      <th>7</th>\n",
       "      <td>Earth</td>\n",
       "      <td>True</td>\n",
       "      <td>0.0</td>\n",
       "      <td>0.0</td>\n",
       "      <td>0.0</td>\n",
       "      <td>0.0</td>\n",
       "      <td>NaN</td>\n",
       "    </tr>\n",
       "    <tr>\n",
       "      <th>9</th>\n",
       "      <td>Europa</td>\n",
       "      <td>True</td>\n",
       "      <td>0.0</td>\n",
       "      <td>0.0</td>\n",
       "      <td>0.0</td>\n",
       "      <td>0.0</td>\n",
       "      <td>0.0</td>\n",
       "    </tr>\n",
       "    <tr>\n",
       "      <th>10</th>\n",
       "      <td>Europa</td>\n",
       "      <td>True</td>\n",
       "      <td>0.0</td>\n",
       "      <td>0.0</td>\n",
       "      <td>NaN</td>\n",
       "      <td>0.0</td>\n",
       "      <td>0.0</td>\n",
       "    </tr>\n",
       "    <tr>\n",
       "      <th>18</th>\n",
       "      <td>Mars</td>\n",
       "      <td>True</td>\n",
       "      <td>0.0</td>\n",
       "      <td>0.0</td>\n",
       "      <td>0.0</td>\n",
       "      <td>0.0</td>\n",
       "      <td>0.0</td>\n",
       "    </tr>\n",
       "    <tr>\n",
       "      <th>21</th>\n",
       "      <td>Earth</td>\n",
       "      <td>True</td>\n",
       "      <td>0.0</td>\n",
       "      <td>0.0</td>\n",
       "      <td>0.0</td>\n",
       "      <td>0.0</td>\n",
       "      <td>0.0</td>\n",
       "    </tr>\n",
       "    <tr>\n",
       "      <th>...</th>\n",
       "      <td>...</td>\n",
       "      <td>...</td>\n",
       "      <td>...</td>\n",
       "      <td>...</td>\n",
       "      <td>...</td>\n",
       "      <td>...</td>\n",
       "      <td>...</td>\n",
       "    </tr>\n",
       "    <tr>\n",
       "      <th>8679</th>\n",
       "      <td>Europa</td>\n",
       "      <td>True</td>\n",
       "      <td>0.0</td>\n",
       "      <td>0.0</td>\n",
       "      <td>0.0</td>\n",
       "      <td>0.0</td>\n",
       "      <td>0.0</td>\n",
       "    </tr>\n",
       "    <tr>\n",
       "      <th>8680</th>\n",
       "      <td>Earth</td>\n",
       "      <td>True</td>\n",
       "      <td>0.0</td>\n",
       "      <td>0.0</td>\n",
       "      <td>0.0</td>\n",
       "      <td>0.0</td>\n",
       "      <td>0.0</td>\n",
       "    </tr>\n",
       "    <tr>\n",
       "      <th>8681</th>\n",
       "      <td>Earth</td>\n",
       "      <td>True</td>\n",
       "      <td>0.0</td>\n",
       "      <td>0.0</td>\n",
       "      <td>0.0</td>\n",
       "      <td>0.0</td>\n",
       "      <td>0.0</td>\n",
       "    </tr>\n",
       "    <tr>\n",
       "      <th>8684</th>\n",
       "      <td>NaN</td>\n",
       "      <td>True</td>\n",
       "      <td>0.0</td>\n",
       "      <td>0.0</td>\n",
       "      <td>0.0</td>\n",
       "      <td>0.0</td>\n",
       "      <td>0.0</td>\n",
       "    </tr>\n",
       "    <tr>\n",
       "      <th>8689</th>\n",
       "      <td>Earth</td>\n",
       "      <td>True</td>\n",
       "      <td>0.0</td>\n",
       "      <td>0.0</td>\n",
       "      <td>0.0</td>\n",
       "      <td>0.0</td>\n",
       "      <td>0.0</td>\n",
       "    </tr>\n",
       "  </tbody>\n",
       "</table>\n",
       "<p>3037 rows × 7 columns</p>\n",
       "</div>"
      ],
      "text/plain": [
       "     HomePlanet CryoSleep  RoomService  FoodCourt  ShoppingMall  Spa  VRDeck\n",
       "7         Earth      True          0.0        0.0           0.0  0.0     NaN\n",
       "9        Europa      True          0.0        0.0           0.0  0.0     0.0\n",
       "10       Europa      True          0.0        0.0           NaN  0.0     0.0\n",
       "18         Mars      True          0.0        0.0           0.0  0.0     0.0\n",
       "21        Earth      True          0.0        0.0           0.0  0.0     0.0\n",
       "...         ...       ...          ...        ...           ...  ...     ...\n",
       "8679     Europa      True          0.0        0.0           0.0  0.0     0.0\n",
       "8680      Earth      True          0.0        0.0           0.0  0.0     0.0\n",
       "8681      Earth      True          0.0        0.0           0.0  0.0     0.0\n",
       "8684        NaN      True          0.0        0.0           0.0  0.0     0.0\n",
       "8689      Earth      True          0.0        0.0           0.0  0.0     0.0\n",
       "\n",
       "[3037 rows x 7 columns]"
      ]
     },
     "execution_count": 25,
     "metadata": {},
     "output_type": "execute_result"
    }
   ],
   "source": [
    "hi = train.iloc[:, [1,2,7,8,9,10,11]]\n",
    "hi[hi.CryoSleep==True]"
   ]
  },
  {
   "cell_type": "code",
   "execution_count": 26,
   "id": "d57f432f",
   "metadata": {},
   "outputs": [
    {
     "data": {
      "text/plain": [
       "<AxesSubplot:xlabel='HomePlanet', ylabel='Avg. expenses on board'>"
      ]
     },
     "execution_count": 26,
     "metadata": {},
     "output_type": "execute_result"
    },
    {
     "data": {
      "image/png": "[encoded data removed]",
      "text/plain": [
       "<Figure size 432x288 with 1 Axes>"
      ]
     },
     "metadata": {
      "needs_background": "light"
     },
     "output_type": "display_data"
    }
   ],
   "source": [
    "home_expenses = train.iloc[:, [1,7,8,9,10,11]]\n",
    "all_expenses = home_expenses.iloc[:, 1:].sum(axis=1)\n",
    "\n",
    "all_expenses_by_home = pd.concat([home_expenses.HomePlanet, all_expenses.rename(\"AllExpenses\")], axis=1).groupby(\"HomePlanet\").mean()\n",
    "\n",
    "all_expenses_by_home.sort_values(\"AllExpenses\", ascending=False).plot(kind=\"bar\", ylabel=\"Avg. expenses on board\")"
   ]
  },
  {
   "cell_type": "code",
   "execution_count": 27,
   "id": "5178fe7d",
   "metadata": {},
   "outputs": [
    {
     "name": "stdout",
     "output_type": "stream",
     "text": [
      "CryoSleep    False  True\n",
      "HomePlanet              \n",
      "Earth        970.0   0.0\n",
      "Europa      6189.0   0.0\n",
      "Mars        1730.0   0.0\n"
     ]
    },
    {
     "data": {
      "text/plain": [
       "<AxesSubplot:ylabel='HomePlanet'>"
      ]
     },
     "execution_count": 27,
     "metadata": {},
     "output_type": "execute_result"
    },
    {
     "data": {
      "image/png": "[encoded data removed]",
      "text/plain": [
       "<Figure size 432x288 with 1 Axes>"
      ]
     },
     "metadata": {
      "needs_background": "light"
     },
     "output_type": "display_data"
    }
   ],
   "source": [
    "# Now we exclude the ones in CryoSleep because they cannot pay that much since they are bound to their cabin\n",
    "expenses_home_cryo = pd.concat([train[[\"HomePlanet\", \"CryoSleep\"]], all_expenses.rename(\"AllExpenses\")], axis=1)\n",
    "\n",
    "results_cryo_expenses = expenses_home_cryo.pivot_table(index=\"HomePlanet\", columns=\"CryoSleep\", values=\"AllExpenses\", aggfunc=\"mean\")\n",
    "print(results_cryo_expenses.round())\n",
    "\n",
    "# We can see that no expenses are done in CryoSleep! Now the averages for paying visitors are even higher:\n",
    "results_cryo_expenses.iloc[:,0].sort_values(ascending=False).plot(kind=\"barh\", rot=0)"
   ]
  },
  {
   "cell_type": "markdown",
   "id": "20fc5efa",
   "metadata": {},
   "source": [
    "**To-Do:**\n",
    "- for each of the three home planets show distribution of some important features together with Trans/Not Trans in different colours in one plot (3 rows, 4 cols, each plot two groups) to identify different groups \n",
    "- for imputation of CryoSleep and vice versa: where expenses are 0 -> CryoSleep = 1, CryoSleep=1 -> expenses 0"
   ]
  },
  {
   "cell_type": "code",
   "execution_count": 28,
   "id": "709ee830",
   "metadata": {},
   "outputs": [
    {
     "ename": "NameError",
     "evalue": "name 'cryo_expenses' is not defined",
     "output_type": "error",
     "traceback": [
      "\u001b[0;31m---------------------------------------------------------------------------\u001b[0m",
      "\u001b[0;31mNameError\u001b[0m                                 Traceback (most recent call last)",
      "Input \u001b[0;32mIn [28]\u001b[0m, in \u001b[0;36m<cell line: 1>\u001b[0;34m()\u001b[0m\n\u001b[0;32m----> 1\u001b[0m \u001b[43mcryo_expenses\u001b[49m\u001b[38;5;241m.\u001b[39mCryoSleep\u001b[38;5;241m.\u001b[39misnull()\u001b[38;5;241m.\u001b[39msum()\n\u001b[1;32m      2\u001b[0m cryo_expenses[\u001b[38;5;241m0\u001b[39m]\u001b[38;5;241m.\u001b[39misnull()\u001b[38;5;241m.\u001b[39msum()\n",
      "\u001b[0;31mNameError\u001b[0m: name 'cryo_expenses' is not defined"
     ]
    }
   ],
   "source": [
    "cryo_expenses.CryoSleep.isnull().sum()\n",
    "cryo_expenses[0].isnull().sum()"
   ]
  },
  {
   "cell_type": "code",
   "execution_count": null,
   "id": "4d4bc8ae",
   "metadata": {},
   "outputs": [],
   "source": [
    "cryo_expenses[cryo_expenses.CryoSleep.isnull()]"
   ]
  },
  {
   "cell_type": "code",
   "execution_count": null,
   "id": "600685f3",
   "metadata": {},
   "outputs": [],
   "source": [
    "cryo_expenses[cryo_expenses.isna().any(1)]"
   ]
  },
  {
   "cell_type": "code",
   "execution_count": null,
   "id": "14a240d3",
   "metadata": {},
   "outputs": [],
   "source": [
    "# Compute all expense but keep NaN if one is NaN\n",
    "all_expenses_NaN = home_expenses.iloc[:, 1:].sum(axis=1, skipna=False)\n",
    "cryo_expenses = pd.concat([train.CryoSleep, all_expenses_NaN], axis=1)\n",
    "\n",
    "print(len(cryo_expenses[cryo_expenses.isna().any(1)])) # Total where one or both are NaN\n",
    "print(cryo_expenses[cryo_expenses.CryoSleep.isna() &  ~cryo_expenses[0].isna()].shape[0]) # Can be 100% resolved\n",
    "print(cryo_expenses[cryo_expenses[0].isna() &  cryo_expenses.CryoSleep==True].shape[0]) # Can be 100% resolved"
   ]
  },
  {
   "cell_type": "code",
   "execution_count": null,
   "id": "bb570134",
   "metadata": {},
   "outputs": [],
   "source": [
    "# TO-DO: Do it in nicer way!\n",
    "hi = train.iloc[:, [1,2,7,8,9,10,11]].copy()\n",
    "hi[hi.CryoSleep==True]"
   ]
  },
  {
   "cell_type": "code",
   "execution_count": null,
   "id": "49043259",
   "metadata": {},
   "outputs": [],
   "source": [
    "hi[\"Total_exp\"] = hi.iloc[:, 2:].sum(axis=1, skipna=False)\n",
    "nan_expenses = hi[hi.Total_exp.isna()]\n",
    "nan_expenses[nan_expenses.CryoSleep == True] # CryoSleep + NaN in expenses? - 347 rows: just fill in 0 for each expense\n",
    "\n",
    "# NaN CryoSleep + Expenses not NaN: -> True is ==0, False if >0\n",
    "# NaN CryoSleep + Expenses NaN:  1) only zeros other than NaN? -> CryoSleep=True, RestExp=0\n",
    "#                                2) at least one value >0? -> CryoSleep=False, RestExp=mean of HomePlanet (TO-DO)\n",
    "nan_expenses[nan_expenses.CryoSleep.isna()]"
   ]
  },
  {
   "cell_type": "markdown",
   "id": "6b0485b2",
   "metadata": {},
   "source": [
    "#### 2.3.3 CryoSleep"
   ]
  },
  {
   "cell_type": "code",
   "execution_count": null,
   "id": "9f13a9ad",
   "metadata": {},
   "outputs": [],
   "source": []
  },
  {
   "cell_type": "markdown",
   "id": "9685c924",
   "metadata": {},
   "source": [
    "#### 2.3.4 Cabin"
   ]
  },
  {
   "cell_type": "code",
   "execution_count": null,
   "id": "410dd4ed",
   "metadata": {},
   "outputs": [],
   "source": []
  },
  {
   "cell_type": "markdown",
   "id": "6eafe4cc",
   "metadata": {},
   "source": [
    "#### 2.3.5 Destination"
   ]
  },
  {
   "cell_type": "code",
   "execution_count": null,
   "id": "441d64ef",
   "metadata": {},
   "outputs": [],
   "source": []
  },
  {
   "cell_type": "markdown",
   "id": "9bc49d42",
   "metadata": {},
   "source": [
    "#### 2.3.6 Age"
   ]
  },
  {
   "cell_type": "code",
   "execution_count": null,
   "id": "f680eef8",
   "metadata": {},
   "outputs": [],
   "source": []
  },
  {
   "cell_type": "markdown",
   "id": "31f974f9",
   "metadata": {},
   "source": [
    "#### 2.3.7 VIP"
   ]
  },
  {
   "cell_type": "code",
   "execution_count": null,
   "id": "5a3d6d81",
   "metadata": {},
   "outputs": [],
   "source": []
  },
  {
   "cell_type": "markdown",
   "id": "bf1a9d90",
   "metadata": {},
   "source": [
    "#### 2.3.8 RoomService"
   ]
  },
  {
   "cell_type": "code",
   "execution_count": null,
   "id": "6c14c565",
   "metadata": {},
   "outputs": [],
   "source": []
  },
  {
   "cell_type": "markdown",
   "id": "6d229a77",
   "metadata": {},
   "source": [
    "#### 2.3.9. FoodCourt"
   ]
  },
  {
   "cell_type": "code",
   "execution_count": null,
   "id": "6b631d43",
   "metadata": {},
   "outputs": [],
   "source": []
  },
  {
   "cell_type": "markdown",
   "id": "2a0552ce",
   "metadata": {},
   "source": [
    "#### 2.3.10 ShoppingMall"
   ]
  },
  {
   "cell_type": "code",
   "execution_count": null,
   "id": "71438281",
   "metadata": {},
   "outputs": [],
   "source": []
  },
  {
   "cell_type": "markdown",
   "id": "ba131753",
   "metadata": {},
   "source": [
    "#### 2.3.11 Spa"
   ]
  },
  {
   "cell_type": "code",
   "execution_count": null,
   "id": "b0511abe",
   "metadata": {},
   "outputs": [],
   "source": []
  },
  {
   "cell_type": "markdown",
   "id": "a72e547d",
   "metadata": {},
   "source": [
    "#### 2.3.12 VRDeck"
   ]
  },
  {
   "cell_type": "code",
   "execution_count": null,
   "id": "38f55001",
   "metadata": {},
   "outputs": [],
   "source": []
  },
  {
   "cell_type": "markdown",
   "id": "c75315fc",
   "metadata": {},
   "source": [
    "#### 2.3.13 Name"
   ]
  },
  {
   "cell_type": "code",
   "execution_count": null,
   "id": "3f71af3b",
   "metadata": {},
   "outputs": [],
   "source": []
  },
  {
   "cell_type": "markdown",
   "id": "e13028f9",
   "metadata": {},
   "source": [
    "#### 2.3.14 Transported - Target Variable"
   ]
  },
  {
   "cell_type": "code",
   "execution_count": null,
   "id": "d8216456",
   "metadata": {},
   "outputs": [],
   "source": []
  },
  {
   "cell_type": "markdown",
   "id": "8aa9f185",
   "metadata": {},
   "source": [
    "## 3. Preprocess the data"
   ]
  },
  {
   "cell_type": "code",
   "execution_count": null,
   "id": "4870c733",
   "metadata": {},
   "outputs": [],
   "source": []
  },
  {
   "cell_type": "markdown",
   "id": "23dc9056",
   "metadata": {},
   "source": [
    "## 4. Engineer models and predict target variable"
   ]
  },
  {
   "cell_type": "code",
   "execution_count": null,
   "id": "fb11585b",
   "metadata": {},
   "outputs": [],
   "source": []
  }
 ],
 "metadata": {
  "kernelspec": {
   "display_name": "Python 3 (ipykernel)",
   "language": "python",
   "name": "python3"
  },
  "language_info": {
   "codemirror_mode": {
    "name": "ipython",
    "version": 3
   },
   "file_extension": ".py",
   "mimetype": "text/x-python",
   "name": "python",
   "nbconvert_exporter": "python",
   "pygments_lexer": "ipython3",
   "version": "3.9.12"
  }
 },
 "nbformat": 4,
 "nbformat_minor": 5
}
