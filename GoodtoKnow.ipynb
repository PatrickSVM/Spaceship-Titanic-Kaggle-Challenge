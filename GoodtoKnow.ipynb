{
 "cells": [
  {
   "cell_type": "markdown",
   "id": "3e5e5bc2",
   "metadata": {},
   "source": [
    "# Nice to know stuff"
   ]
  },
  {
   "cell_type": "code",
   "execution_count": null,
   "id": "6d3548f5",
   "metadata": {},
   "outputs": [],
   "source": [
    "import time\n",
    "\n",
    "log_train = train.copy()\n",
    "to_log_cols = ['RoomService', 'FoodCourt', 'ShoppingMall', 'Spa', 'VRDeck']\n",
    "\n",
    "# First run: Pass cols as pd.Series\n",
    "now = time.time()\n",
    "log_train[to_log_cols].apply(lambda col: np.log(col+1), raw=False, axis=1)\n",
    "print(f\"Passed as series: {time.time()-now:.2f}\")\n",
    "\n",
    "# Second run: Pass cols as ndarray (faster!!!)\n",
    "now = time.time()\n",
    "log_train[to_log_cols].apply(lambda col: np.log(col+1), raw=True, axis=1)\n",
    "print(f\"Passed as raw-ndarray: {time.time()-now:.2f}\")\n",
    "\n",
    "# Around 26x faster!!!"
   ]
  },
  {
   "cell_type": "markdown",
   "id": "c4651c6b",
   "metadata": {},
   "source": [
    "Why log scale? To make data normal, often positive values like money etc, often a prerequisite for t-tests, models, ...\n"
   ]
  },
  {
   "cell_type": "code",
   "execution_count": 17,
   "id": "b0661e88",
   "metadata": {},
   "outputs": [
    {
     "name": "stdout",
     "output_type": "stream",
     "text": [
      "[-4.60517019 -2.30258509 -1.60943791  0.          2.30258509  4.60517019\n",
      "  4.61512052  6.90775528]\n",
      "[-2.         -1.         -0.69897     0.          1.          2.\n",
      "  2.00432137  3.        ]\n"
     ]
    }
   ],
   "source": [
    "import numpy as np\n",
    "import matplotlib.pyplot as plt\n",
    "x = [0.01, 0.1, 0.2, 1,10, 100, 101, 1000]\n",
    "y10 = np.log10(x)\n",
    "y\n",
    "\n",
    "print(y)\n",
    "print(y10)"
   ]
  },
  {
   "cell_type": "code",
   "execution_count": null,
   "id": "77056bb5",
   "metadata": {},
   "outputs": [],
   "source": [
    "# If 10x, the difference is 1 / 2.3 for natural log. So we have the same distance between 0.1 and 1 and 100 and 1000\n",
    "# That 0.1 and 0.2 are now 0.7 apart (natural) and 100/101 are now 0.15 different!!! So small values get \n",
    "# distanced out and large values get squeezed"
   ]
  },
  {
   "cell_type": "markdown",
   "id": "21306b72",
   "metadata": {},
   "source": []
  },
  {
   "cell_type": "code",
   "execution_count": null,
   "id": "d11edd45",
   "metadata": {},
   "outputs": [],
   "source": [
    "def annotate_bar_perc(plot, n_rows, text_size=14, text_pos=(0,8)):\n",
    "    # Annotate the Bar-plots with category-percentage\n",
    "    conts = plot.containers # Get containers, for each class of Transported one (True/False)\n",
    "    \n",
    "    for i in range(len(conts[0])): \n",
    "        height = sum([cont[i].get_height() for cont in conts]) # Calculate height of bar\n",
    "        text = f\"{height/n_rows*100:.2f}%\" # Create Annotation\n",
    "\n",
    "        # Add text for every big bar\n",
    "        plot.annotate(text,\n",
    "                    (conts[0][i].get_x() + conts[0][i].get_width() / 2, height),  # Position xy\n",
    "                    ha='center', # Centering\n",
    "                    va='center',  \n",
    "                    size=text_size, \n",
    "                    xytext=text_pos, # Coordinates of Text, Coord-System is defined by textcoords\n",
    "                    textcoords='offset points') # Coord-System (So from the annotated position + xytext)\n",
    "    return plot"
   ]
  }
 ],
 "metadata": {
  "kernelspec": {
   "display_name": "Python 3 (ipykernel)",
   "language": "python",
   "name": "python3"
  },
  "language_info": {
   "codemirror_mode": {
    "name": "ipython",
    "version": 3
   },
   "file_extension": ".py",
   "mimetype": "text/x-python",
   "name": "python",
   "nbconvert_exporter": "python",
   "pygments_lexer": "ipython3",
   "version": "3.9.12"
  }
 },
 "nbformat": 4,
 "nbformat_minor": 5
}
