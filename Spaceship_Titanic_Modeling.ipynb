{
 "cells": [
  {
   "cell_type": "markdown",
   "id": "1e03a90b",
   "metadata": {},
   "source": [
    "# Data"
   ]
  },
  {
   "cell_type": "code",
   "execution_count": 5,
   "id": "39debbfc",
   "metadata": {},
   "outputs": [],
   "source": [
    "import pandas as pd\n",
    "import numpy as np\n",
    "from SupportFunctions import preprocess_impute_spaceship_titanic"
   ]
  },
  {
   "cell_type": "code",
   "execution_count": 11,
   "id": "9120123f",
   "metadata": {},
   "outputs": [],
   "source": [
    "train_raw = pd.read_csv(\"./spaceship-titanic/train.csv\")\n",
    "test_raw = pd.read_csv((\"./spaceship-titanic/test.csv\"))\n",
    "\n",
    "# Set params for preprocesing/imputation\n",
    "log_transform_exp=False\n",
    "proba_imp=True\n",
    "expense_strat=\"group_median\"\n",
    "age_strat=\"group_mean\"\n",
    "drop_outliers=False\n",
    "\n",
    "# Preprocess train \n",
    "train = preprocess_impute_spaceship_titanic(train_raw, \n",
    "                                            log_transform_exp=log_transform_exp, \n",
    "                                            proba_imp=proba_imp, \n",
    "                                            expense_strat=expense_strat, \n",
    "                                            age_strat=age_strat,\n",
    "                                            drop_outliers=drop_outliers)\n",
    "\n",
    "# Preprocess test in same way\n",
    "test = preprocess_impute_spaceship_titanic(test_raw, \n",
    "                                           log_transform_exp=log_transform_exp, \n",
    "                                           proba_imp=proba_imp, \n",
    "                                           expense_strat=expense_strat, \n",
    "                                           age_strat=age_strat,\n",
    "                                           drop_outliers=drop_outliers)"
   ]
  },
  {
   "cell_type": "code",
   "execution_count": 12,
   "id": "2ba22783",
   "metadata": {},
   "outputs": [],
   "source": [
    "from sklearn.preprocessing import OneHotEncoder\n",
    "from sklearn.compose import ColumnTransformer\n",
    "\n",
    "#Categorical features we want to include in the models\n",
    "cat_features = ['HomePlanet', 'Destination', 'Deck', 'Side']\n",
    "bool_features = ['CryoSleep', 'VIP', 'NoExpenses', 'Alone']\n",
    "drop_features = ['PassengerId', 'Name', 'GroupID', 'CabinNum']\n",
    "num_features = ['Age', 'TotalExp', 'RoomService', 'FoodCourt', 'ShoppingMall', 'Spa', 'VRDeck', 'GroupPos']\n",
    "\n",
    "train = pd.concat([train, pd.get_dummies(train[cat_features])], axis=1)\n",
    "train = train.drop(cat_features, axis=1)\n",
    "train = train.drop(drop_features, axis=1)\n",
    "\n",
    "# Same for test\n",
    "test = pd.concat([test, pd.get_dummies(test[cat_features])], axis=1)\n",
    "test = test.drop(cat_features, axis=1)\n",
    "test = test.drop(drop_features, axis=1)\n",
    "\n",
    "\n",
    "y = train.Transported.copy()\n",
    "X = train.drop(\"Transported\", axis=1).copy()"
   ]
  },
  {
   "cell_type": "markdown",
   "id": "2cb027bd",
   "metadata": {},
   "source": [
    "# DecTree"
   ]
  },
  {
   "cell_type": "code",
   "execution_count": 13,
   "id": "af05dc92",
   "metadata": {},
   "outputs": [
    {
     "name": "stdout",
     "output_type": "stream",
     "text": [
      "Fitting 5 folds for each of 1920 candidates, totalling 9600 fits\n"
     ]
    },
    {
     "data": {
      "text/html": [
       "<style>#sk-container-id-2 {color: black;background-color: white;}#sk-container-id-2 pre{padding: 0;}#sk-container-id-2 div.sk-toggleable {background-color: white;}#sk-container-id-2 label.sk-toggleable__label {cursor: pointer;display: block;width: 100%;margin-bottom: 0;padding: 0.3em;box-sizing: border-box;text-align: center;}#sk-container-id-2 label.sk-toggleable__label-arrow:before {content: \"▸\";float: left;margin-right: 0.25em;color: #696969;}#sk-container-id-2 label.sk-toggleable__label-arrow:hover:before {color: black;}#sk-container-id-2 div.sk-estimator:hover label.sk-toggleable__label-arrow:before {color: black;}#sk-container-id-2 div.sk-toggleable__content {max-height: 0;max-width: 0;overflow: hidden;text-align: left;background-color: #f0f8ff;}#sk-container-id-2 div.sk-toggleable__content pre {margin: 0.2em;color: black;border-radius: 0.25em;background-color: #f0f8ff;}#sk-container-id-2 input.sk-toggleable__control:checked~div.sk-toggleable__content {max-height: 200px;max-width: 100%;overflow: auto;}#sk-container-id-2 input.sk-toggleable__control:checked~label.sk-toggleable__label-arrow:before {content: \"▾\";}#sk-container-id-2 div.sk-estimator input.sk-toggleable__control:checked~label.sk-toggleable__label {background-color: #d4ebff;}#sk-container-id-2 div.sk-label input.sk-toggleable__control:checked~label.sk-toggleable__label {background-color: #d4ebff;}#sk-container-id-2 input.sk-hidden--visually {border: 0;clip: rect(1px 1px 1px 1px);clip: rect(1px, 1px, 1px, 1px);height: 1px;margin: -1px;overflow: hidden;padding: 0;position: absolute;width: 1px;}#sk-container-id-2 div.sk-estimator {font-family: monospace;background-color: #f0f8ff;border: 1px dotted black;border-radius: 0.25em;box-sizing: border-box;margin-bottom: 0.5em;}#sk-container-id-2 div.sk-estimator:hover {background-color: #d4ebff;}#sk-container-id-2 div.sk-parallel-item::after {content: \"\";width: 100%;border-bottom: 1px solid gray;flex-grow: 1;}#sk-container-id-2 div.sk-label:hover label.sk-toggleable__label {background-color: #d4ebff;}#sk-container-id-2 div.sk-serial::before {content: \"\";position: absolute;border-left: 1px solid gray;box-sizing: border-box;top: 0;bottom: 0;left: 50%;z-index: 0;}#sk-container-id-2 div.sk-serial {display: flex;flex-direction: column;align-items: center;background-color: white;padding-right: 0.2em;padding-left: 0.2em;position: relative;}#sk-container-id-2 div.sk-item {position: relative;z-index: 1;}#sk-container-id-2 div.sk-parallel {display: flex;align-items: stretch;justify-content: center;background-color: white;position: relative;}#sk-container-id-2 div.sk-item::before, #sk-container-id-2 div.sk-parallel-item::before {content: \"\";position: absolute;border-left: 1px solid gray;box-sizing: border-box;top: 0;bottom: 0;left: 50%;z-index: -1;}#sk-container-id-2 div.sk-parallel-item {display: flex;flex-direction: column;z-index: 1;position: relative;background-color: white;}#sk-container-id-2 div.sk-parallel-item:first-child::after {align-self: flex-end;width: 50%;}#sk-container-id-2 div.sk-parallel-item:last-child::after {align-self: flex-start;width: 50%;}#sk-container-id-2 div.sk-parallel-item:only-child::after {width: 0;}#sk-container-id-2 div.sk-dashed-wrapped {border: 1px dashed gray;margin: 0 0.4em 0.5em 0.4em;box-sizing: border-box;padding-bottom: 0.4em;background-color: white;}#sk-container-id-2 div.sk-label label {font-family: monospace;font-weight: bold;display: inline-block;line-height: 1.2em;}#sk-container-id-2 div.sk-label-container {text-align: center;}#sk-container-id-2 div.sk-container {/* jupyter's `normalize.less` sets `[hidden] { display: none; }` but bootstrap.min.css set `[hidden] { display: none !important; }` so we also need the `!important` here to be able to override the default hidden behavior on the sphinx rendered scikit-learn.org. See: https://github.com/scikit-learn/scikit-learn/issues/21755 */display: inline-block !important;position: relative;}#sk-container-id-2 div.sk-text-repr-fallback {display: none;}</style><div id=\"sk-container-id-2\" class=\"sk-top-container\"><div class=\"sk-text-repr-fallback\"><pre>GridSearchCV(cv=5, estimator=DecisionTreeClassifier(random_state=123),\n",
       "             n_jobs=-1,\n",
       "             param_grid={&#x27;ccp_alpha&#x27;: [0, 0.1, 0.01, 0.001],\n",
       "                         &#x27;criterion&#x27;: [&#x27;gini&#x27;, &#x27;entropy&#x27;],\n",
       "                         &#x27;max_depth&#x27;: [5, 6, 7, 8, 9],\n",
       "                         &#x27;max_features&#x27;: [None, &#x27;sqrt&#x27;, &#x27;log2&#x27;],\n",
       "                         &#x27;min_samples_leaf&#x27;: [1, 10, 100, 500],\n",
       "                         &#x27;min_samples_split&#x27;: [2, 10, 100, 500]},\n",
       "             verbose=1)</pre><b>In a Jupyter environment, please rerun this cell to show the HTML representation or trust the notebook. <br />On GitHub, the HTML representation is unable to render, please try loading this page with nbviewer.org.</b></div><div class=\"sk-container\" hidden><div class=\"sk-item sk-dashed-wrapped\"><div class=\"sk-label-container\"><div class=\"sk-label sk-toggleable\"><input class=\"sk-toggleable__control sk-hidden--visually\" id=\"sk-estimator-id-4\" type=\"checkbox\" ><label for=\"sk-estimator-id-4\" class=\"sk-toggleable__label sk-toggleable__label-arrow\">GridSearchCV</label><div class=\"sk-toggleable__content\"><pre>GridSearchCV(cv=5, estimator=DecisionTreeClassifier(random_state=123),\n",
       "             n_jobs=-1,\n",
       "             param_grid={&#x27;ccp_alpha&#x27;: [0, 0.1, 0.01, 0.001],\n",
       "                         &#x27;criterion&#x27;: [&#x27;gini&#x27;, &#x27;entropy&#x27;],\n",
       "                         &#x27;max_depth&#x27;: [5, 6, 7, 8, 9],\n",
       "                         &#x27;max_features&#x27;: [None, &#x27;sqrt&#x27;, &#x27;log2&#x27;],\n",
       "                         &#x27;min_samples_leaf&#x27;: [1, 10, 100, 500],\n",
       "                         &#x27;min_samples_split&#x27;: [2, 10, 100, 500]},\n",
       "             verbose=1)</pre></div></div></div><div class=\"sk-parallel\"><div class=\"sk-parallel-item\"><div class=\"sk-item\"><div class=\"sk-label-container\"><div class=\"sk-label sk-toggleable\"><input class=\"sk-toggleable__control sk-hidden--visually\" id=\"sk-estimator-id-5\" type=\"checkbox\" ><label for=\"sk-estimator-id-5\" class=\"sk-toggleable__label sk-toggleable__label-arrow\">estimator: DecisionTreeClassifier</label><div class=\"sk-toggleable__content\"><pre>DecisionTreeClassifier(random_state=123)</pre></div></div></div><div class=\"sk-serial\"><div class=\"sk-item\"><div class=\"sk-estimator sk-toggleable\"><input class=\"sk-toggleable__control sk-hidden--visually\" id=\"sk-estimator-id-6\" type=\"checkbox\" ><label for=\"sk-estimator-id-6\" class=\"sk-toggleable__label sk-toggleable__label-arrow\">DecisionTreeClassifier</label><div class=\"sk-toggleable__content\"><pre>DecisionTreeClassifier(random_state=123)</pre></div></div></div></div></div></div></div></div></div></div>"
      ],
      "text/plain": [
       "GridSearchCV(cv=5, estimator=DecisionTreeClassifier(random_state=123),\n",
       "             n_jobs=-1,\n",
       "             param_grid={'ccp_alpha': [0, 0.1, 0.01, 0.001],\n",
       "                         'criterion': ['gini', 'entropy'],\n",
       "                         'max_depth': [5, 6, 7, 8, 9],\n",
       "                         'max_features': [None, 'sqrt', 'log2'],\n",
       "                         'min_samples_leaf': [1, 10, 100, 500],\n",
       "                         'min_samples_split': [2, 10, 100, 500]},\n",
       "             verbose=1)"
      ]
     },
     "execution_count": 13,
     "metadata": {},
     "output_type": "execute_result"
    }
   ],
   "source": [
    "from sklearn.model_selection import cross_val_score\n",
    "from sklearn.model_selection import GridSearchCV\n",
    "from sklearn.tree import DecisionTreeClassifier\n",
    "\n",
    "\n",
    "param_grid = {'max_features': [None, 'sqrt', 'log2'],\n",
    "              'ccp_alpha': [0, 0.1, .01, .001],\n",
    "              'max_depth' : [5, 6, 7, 8, 9],\n",
    "              'criterion' :['gini', 'entropy'],\n",
    "              'min_samples_split': [2, 10, 100, 500], \n",
    "              'min_samples_leaf': [1, 10, 100, 500]\n",
    "             }\n",
    "\n",
    "decTree = DecisionTreeClassifier(random_state=123)\n",
    "grid_search_DT = GridSearchCV(estimator=decTree, param_grid=param_grid, cv=5, verbose=1, n_jobs=-1)\n",
    "grid_search_DT.fit(X, y)"
   ]
  },
  {
   "cell_type": "code",
   "execution_count": 14,
   "id": "0aaf2ce3",
   "metadata": {},
   "outputs": [
    {
     "data": {
      "text/plain": [
       "0.7878772438427705"
      ]
     },
     "execution_count": 14,
     "metadata": {},
     "output_type": "execute_result"
    }
   ],
   "source": [
    "grid_search_DT.best_score_"
   ]
  },
  {
   "cell_type": "code",
   "execution_count": null,
   "id": "29b1b60e",
   "metadata": {},
   "outputs": [],
   "source": [
    "decTreePred = grid_search_DT.best_estimator_.predict(test)\n",
    "\n",
    "decTreeSub = test_raw[[\"PassengerId\"]].copy()\n",
    "decTreeSub[\"Transported\"] = decTreePred\n",
    "\n",
    "decTreeSub.to_csv(\"./spaceship-titanic/DecTree.csv\", index=False)"
   ]
  },
  {
   "cell_type": "markdown",
   "id": "da9bd8d2",
   "metadata": {},
   "source": [
    "# RF"
   ]
  },
  {
   "cell_type": "code",
   "execution_count": null,
   "id": "d8b8084d",
   "metadata": {},
   "outputs": [],
   "source": [
    "'criterion' :['gini', 'entropy'],\n",
    "    'min_samples_split': [2, 10, 100, 500], \n",
    "    'min_samples_leaf': [1, 10, 100, 500]"
   ]
  },
  {
   "cell_type": "code",
   "execution_count": null,
   "id": "ac9d64bd",
   "metadata": {},
   "outputs": [],
   "source": [
    "param_grid = { \n",
    "    'criterion' :['gini', 'entropy'],\n",
    "    'n_estimators': [200, 400, 500, 600],\n",
    "    'max_features': [None, 'sqrt'],\n",
    "    'max_depth' : [5,6,7,8,9]\n",
    "}\n",
    "\n",
    "RF = RandomForestClassifier(random_state=123)\n",
    "grid_search_RF = GridSearchCV(estimator=RF, param_grid=param_grid, cv=5, verbose=1, n_jobs=-1)\n",
    "grid_search_RF.fit(X, y)"
   ]
  },
  {
   "cell_type": "code",
   "execution_count": null,
   "id": "e8689d7f",
   "metadata": {},
   "outputs": [],
   "source": [
    "param_grid = { \n",
    "    'criterion' :['entropy'],\n",
    "    'n_estimators': [600, 700, 800],\n",
    "    'max_features': [None],\n",
    "    'max_depth' : [9, 10, 12, 16]\n",
    "}\n",
    "\n",
    "RF = RandomForestClassifier(random_state=123)\n",
    "grid_search_RF = GridSearchCV(estimator=RF, param_grid=param_grid, cv=5, verbose=1, n_jobs=-1)\n",
    "grid_search_RF.fit(X, y)"
   ]
  },
  {
   "cell_type": "code",
   "execution_count": null,
   "id": "12c1eefd",
   "metadata": {},
   "outputs": [],
   "source": [
    "grid_search_RF.best_score_"
   ]
  },
  {
   "cell_type": "code",
   "execution_count": null,
   "id": "f61a9b14",
   "metadata": {},
   "outputs": [],
   "source": [
    "RF_pred = grid_search_RF.best_estimator_.predict(test)\n",
    "\n",
    "RF_sub = test_raw[[\"PassengerId\"]].copy()\n",
    "RF_sub[\"Transported\"] = RF_pred\n",
    "\n",
    "RF_sub.to_csv(\"./spaceship-titanic/RF_log.csv\", index=False)"
   ]
  },
  {
   "cell_type": "code",
   "execution_count": null,
   "id": "7e077e17",
   "metadata": {},
   "outputs": [],
   "source": [
    "plt.figure(figsize=(10,8))\n",
    "importances = grid_search_RF.best_estimator_.feature_importances_\n",
    "names = grid_search_RF.best_estimator_.feature_names_in_\n",
    "feat_importances = pd.DataFrame({\"Name\":names, \"Importance\":importances}).sort_values(by=\"Importance\")\n",
    "plt.barh(width=feat_importances.Importance, \n",
    "         y=feat_importances.Name)"
   ]
  },
  {
   "cell_type": "markdown",
   "id": "ed241eb3",
   "metadata": {},
   "source": [
    "# AB"
   ]
  },
  {
   "cell_type": "code",
   "execution_count": null,
   "id": "aa02e640",
   "metadata": {},
   "outputs": [],
   "source": [
    "from sklearn.ensemble import AdaBoostClassifier\n",
    "from sklearn.svm import SVC\n",
    "\n",
    "param_grid = { \n",
    "    'n_estimators':[400, 500, 600, 700],\n",
    "    'learning_rate':[0.2, 0.4, 0.5, 0.6, 0.7, 0.8, 0.9, 1]\n",
    "}\n",
    "\n",
    "AdaBoost = AdaBoostClassifier(random_state=123)\n",
    "grid_search_AB = GridSearchCV(estimator=AdaBoost, param_grid=param_grid, cv=5, verbose=1, n_jobs=-1)\n",
    "grid_search_AB.fit(X, y)"
   ]
  },
  {
   "cell_type": "code",
   "execution_count": null,
   "id": "cd434fa0",
   "metadata": {},
   "outputs": [],
   "source": [
    "grid_search_AB.best_score_"
   ]
  },
  {
   "cell_type": "code",
   "execution_count": null,
   "id": "a72d07ad",
   "metadata": {},
   "outputs": [],
   "source": [
    "AB_pred = grid_search_AB.best_estimator_.predict(test)\n",
    "\n",
    "AB_sub = test_raw[[\"PassengerId\"]].copy()\n",
    "AB_sub[\"Transported\"] = AB_pred\n",
    "\n",
    "AB_sub.to_csv(\"./spaceship-titanic/AB.csv\", index=False)"
   ]
  }
 ],
 "metadata": {
  "kernelspec": {
   "display_name": "Python 3 (ipykernel)",
   "language": "python",
   "name": "python3"
  },
  "language_info": {
   "codemirror_mode": {
    "name": "ipython",
    "version": 3
   },
   "file_extension": ".py",
   "mimetype": "text/x-python",
   "name": "python",
   "nbconvert_exporter": "python",
   "pygments_lexer": "ipython3",
   "version": "3.9.12"
  }
 },
 "nbformat": 4,
 "nbformat_minor": 5
}
